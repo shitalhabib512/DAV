{
  "nbformat": 4,
  "nbformat_minor": 0,
  "metadata": {
    "colab": {
      "provenance": [],
      "authorship_tag": "ABX9TyM2vrRvmG/A+RPAV7vJWvfJ",
      "include_colab_link": true
    },
    "kernelspec": {
      "name": "python3",
      "display_name": "Python 3"
    },
    "language_info": {
      "name": "python"
    }
  },
  "cells": [
    {
      "cell_type": "markdown",
      "metadata": {
        "id": "view-in-github",
        "colab_type": "text"
      },
      "source": [
        "<a href=\"https://colab.research.google.com/github/shitalhabib512/DAV/blob/main/T_test.ipynb\" target=\"_parent\"><img src=\"https://colab.research.google.com/assets/colab-badge.svg\" alt=\"Open In Colab\"/></a>"
      ]
    },
    {
      "cell_type": "code",
      "execution_count": 3,
      "metadata": {
        "id": "DyRHYp7RPfrO"
      },
      "outputs": [],
      "source": [
        "import numpy as np\n",
        "import pandas as pd\n",
        "from scipy.stats import ttest_ind,ttest_1samp,ttest_rel\n",
        "\n",
        "\n",
        "#import required libraries\n",
        "\n",
        "import numpy as np\n",
        "import pandas as pd\n",
        "\n",
        "import matplotlib.pyplot as plt\n",
        "import seaborn as sns\n",
        "\n",
        "from scipy import stats\n"
      ]
    },
    {
      "cell_type": "code",
      "source": [
        "'''Traditionally it is known that a green gram cultivation yields 12.0 quintals per hectare on an average.\n",
        "\n",
        "In order to increase crop yields, scientists have developed a new variety of green grams, that can supposedly produce more than the expected average yield of 12 quintals per hectare.\n",
        "\n",
        "To test the same, this variety of green grams was tested on 10 randomly selected farmer's fields.\n",
        "\n",
        "The yield (quintals/hectare) was recorded as: [14.3,12.6,13.7,10.9,13.7,12.0,11.4,12.0,12.6,13.1]\n",
        "\n",
        "With a 5% significance level, can we conclude that the average yield of this variety of green grams is more than the expected yield (12 quintals/hectare)?\n",
        "\n",
        "Perform an appropriate test and choose the correct option below :'''"
      ],
      "metadata": {
        "id": "2ZRT_z7PPjAv"
      },
      "execution_count": null,
      "outputs": []
    },
    {
      "cell_type": "code",
      "source": [
        "yields= [14.3,12.6,13.7,10.9,13.7,12.0,11.4,12.0,12.6,13.1]\n",
        "m=np.mean(yields)\n",
        "sd=np.std(yields)\n",
        "mu=12\n",
        "\n",
        "ttest_1samp(yields,12,alternative='greater')"
      ],
      "metadata": {
        "colab": {
          "base_uri": "https://localhost:8080/"
        },
        "id": "LTU-SXFUQiJe",
        "outputId": "d2587cee-43c3-46ea-8275-27b9c22601b1"
      },
      "execution_count": 6,
      "outputs": [
        {
          "output_type": "execute_result",
          "data": {
            "text/plain": [
              "TtestResult(statistic=1.8356436949305335, pvalue=0.04979938002326665, df=9)"
            ]
          },
          "metadata": {},
          "execution_count": 6
        }
      ]
    },
    {
      "cell_type": "code",
      "source": [],
      "metadata": {
        "id": "znTIzzcHSCfY"
      },
      "execution_count": null,
      "outputs": []
    },
    {
      "cell_type": "code",
      "source": [],
      "metadata": {
        "id": "W9-e1T-GSCig"
      },
      "execution_count": null,
      "outputs": []
    },
    {
      "cell_type": "code",
      "source": [
        "'''Samples of Body fat percentages of few gym going men and women are recorded.\n",
        "\n",
        "men = [13.3, 6.0, 20.0, 8.0, 14.0, 19.0, 18.0, 25.0, 16.0, 24.0, 15.0, 1.0, 15.0]\n",
        "women = [22.0, 16.0, 21.7, 21.0, 30.0, 26.0, 12.0, 23.2, 28.0, 23.0]\n",
        "Perform an appropriate test to check if the mean body fat percentage of men and women is statistically different.\n",
        "\n",
        "Assume the significance level to be 5%.\n",
        "\n",
        "\n",
        "\n",
        "Choose the correct option below :'''"
      ],
      "metadata": {
        "colab": {
          "base_uri": "https://localhost:8080/",
          "height": 53
        },
        "id": "A2KQTDFKSCm2",
        "outputId": "e8b10315-f201-458f-dc20-66ee5b87aa65"
      },
      "execution_count": 9,
      "outputs": [
        {
          "output_type": "execute_result",
          "data": {
            "text/plain": [
              "'Samples of Body fat percentages of few gym going men and women are recorded.\\n\\nmen = [13.3, 6.0, 20.0, 8.0, 14.0, 19.0, 18.0, 25.0, 16.0, 24.0, 15.0, 1.0, 15.0]\\nwomen = [22.0, 16.0, 21.7, 21.0, 30.0, 26.0, 12.0, 23.2, 28.0, 23.0]\\nPerform an appropriate test to check if the mean body fat percentage of men and women is statistically different.\\n\\nAssume the significance level to be 5%.\\n\\n\\n\\nChoose the correct option below :'"
            ],
            "application/vnd.google.colaboratory.intrinsic+json": {
              "type": "string"
            }
          },
          "metadata": {},
          "execution_count": 9
        }
      ]
    },
    {
      "cell_type": "code",
      "source": [
        "men = [13.3, 6.0, 20.0, 8.0, 14.0, 19.0, 18.0, 25.0, 16.0, 24.0, 15.0, 1.0, 15.0]\n",
        "women = [22.0, 16.0, 21.7, 21.0, 30.0, 26.0, 12.0, 23.2, 28.0, 23.0]\n",
        "ttest_ind(men,women)"
      ],
      "metadata": {
        "colab": {
          "base_uri": "https://localhost:8080/"
        },
        "id": "TWk5FI6QSb_-",
        "outputId": "443c92d8-5f90-4199-9c0d-139f0d426eaa"
      },
      "execution_count": 10,
      "outputs": [
        {
          "output_type": "execute_result",
          "data": {
            "text/plain": [
              "TtestResult(statistic=-2.799960442832919, pvalue=0.010730607904197957, df=21.0)"
            ]
          },
          "metadata": {},
          "execution_count": 10
        }
      ]
    },
    {
      "cell_type": "code",
      "source": [],
      "metadata": {
        "id": "F1Ycl05gSz31"
      },
      "execution_count": null,
      "outputs": []
    },
    {
      "cell_type": "code",
      "source": [],
      "metadata": {
        "id": "kqz1N72gSz7A"
      },
      "execution_count": null,
      "outputs": []
    },
    {
      "cell_type": "code",
      "source": [
        "'''The quality assurance department claims that on average the non-fat milk contains more than 190 mg of Calcium per 500 ml packet.\n",
        "\n",
        "To check this claim 45 packets of milk are collected and the content of calcium is recorded.\n",
        "\n",
        "Perform an appropriate test to check the claim with a 90% confidence level.\n",
        "\n",
        "data = [193, 321, 222, 158, 176, 149, 154, 223, 233, 177, 280, 244, 138, 210, 167, 129, 254, 167, 194, 191, 128, 191, 144, 184, 330, 216, 212, 142, 216, 197, 231, 133, 205, 192, 195, 243, 224, 137, 234, 171, 176, 249, 222, 234, 191]\n",
        "\n",
        "\n",
        "Note: Round off the answer to four decimal places.'''"
      ],
      "metadata": {
        "id": "u9uWbym7Sz94"
      },
      "execution_count": null,
      "outputs": []
    },
    {
      "cell_type": "code",
      "source": [
        "data = [193, 321, 222, 158, 176, 149, 154, 223, 233, 177, 280, 244, 138, 210, 167, 129, 254, 167, 194, 191, 128, 191, 144, 184, 330, 216, 212, 142, 216, 197, 231, 133, 205, 192, 195, 243, 224, 137, 234, 171, 176, 249, 222, 234, 191]\n",
        "ttest_1samp(data,190,alternative='greater')"
      ],
      "metadata": {
        "colab": {
          "base_uri": "https://localhost:8080/"
        },
        "id": "-zStT1QgS1eO",
        "outputId": "6b758e0f-1136-4bc8-d7e9-3ff31a0112ae"
      },
      "execution_count": 11,
      "outputs": [
        {
          "output_type": "execute_result",
          "data": {
            "text/plain": [
              "TtestResult(statistic=1.3689029903414232, pvalue=0.08898891556150607, df=44)"
            ]
          },
          "metadata": {},
          "execution_count": 11
        }
      ]
    },
    {
      "cell_type": "code",
      "source": [],
      "metadata": {
        "id": "HbPoEHeZUf4P"
      },
      "execution_count": null,
      "outputs": []
    },
    {
      "cell_type": "code",
      "source": [],
      "metadata": {
        "id": "BKRh3P8-Uf7R"
      },
      "execution_count": null,
      "outputs": []
    },
    {
      "cell_type": "code",
      "source": [
        "'''There are 8 females and 12 males in a coaching class.\n",
        "\n",
        "After a practice test, the coach wants to know whether the average score of females is greater than the average score of males.\n",
        "\n",
        "Given data describes the scores of females and males in his class.\n",
        "\n",
        "female_scores=[25,30,45,49,47,35,32,42]\n",
        "\n",
        "male_scores=[45,47,25,22,29,32,27,28,40,49,50,33]\n",
        "Use an appropriate test to check whether the assumption of the coach is significant or not, at a 2% significance level?'''"
      ],
      "metadata": {
        "id": "cdZ0zu1kUf-Z"
      },
      "execution_count": null,
      "outputs": []
    },
    {
      "cell_type": "code",
      "source": [
        "female_scores=[25,30,45,49,47,35,32,42]\n",
        "\n",
        "male_scores=[45,47,25,22,29,32,27,28,40,49,50,33]\n",
        "\n",
        "ttest_ind(female_scores,male_scores,alternative='greater')"
      ],
      "metadata": {
        "colab": {
          "base_uri": "https://localhost:8080/"
        },
        "id": "pwThAphIUjRF",
        "outputId": "0213aeab-f147-42d8-c22e-c1ab287e998e"
      },
      "execution_count": 12,
      "outputs": [
        {
          "output_type": "execute_result",
          "data": {
            "text/plain": [
              "TtestResult(statistic=0.5795450171026676, pvalue=0.2847023809445894, df=18.0)"
            ]
          },
          "metadata": {},
          "execution_count": 12
        }
      ]
    },
    {
      "cell_type": "code",
      "source": [],
      "metadata": {
        "id": "Bw8fzOxWVD0t"
      },
      "execution_count": null,
      "outputs": []
    },
    {
      "cell_type": "code",
      "source": [],
      "metadata": {
        "id": "XirNDLSOVD4C"
      },
      "execution_count": null,
      "outputs": []
    },
    {
      "cell_type": "code",
      "source": [
        "'''An experiment was performed to compare the effectiveness of Ammonium Chloride and urea on the grain yield (in quintal per hectare) and the results are given in the arrays below:\n",
        "\n",
        "Ammonium_chloride = [13.4, 10.9, 11.2, 11.8, 14, 15.3, 14.2, 12.6, 17, 16.2, 16.5, 15.7]\n",
        "Urea = [12, 11.7, 10.7, 11.2, 14.8, 14.4, 13.9, 13.7, 16.9, 16, 15.6, 16]\n",
        "Conduct an appropriate test to compare the same with a 95% confidence level and choose the appropriate option below.'''"
      ],
      "metadata": {
        "id": "t7L1lAhmVD7e"
      },
      "execution_count": null,
      "outputs": []
    },
    {
      "cell_type": "code",
      "source": [
        "\n",
        "Ammonium_chloride = [13.4, 10.9, 11.2, 11.8, 14, 15.3, 14.2, 12.6, 17, 16.2, 16.5, 15.7]\n",
        "Urea = [12, 11.7, 10.7, 11.2, 14.8, 14.4, 13.9, 13.7, 16.9, 16, 15.6, 16]\n",
        "\n",
        "ttest_ind(Ammonium_chloride,Urea)"
      ],
      "metadata": {
        "colab": {
          "base_uri": "https://localhost:8080/"
        },
        "id": "KANp6h83VGoV",
        "outputId": "4e0c9452-5ef7-464b-ca23-c5687587b8c8"
      },
      "execution_count": 13,
      "outputs": [
        {
          "output_type": "execute_result",
          "data": {
            "text/plain": [
              "TtestResult(statistic=0.1846496543760765, pvalue=0.8551954147800473, df=22.0)"
            ]
          },
          "metadata": {},
          "execution_count": 13
        }
      ]
    },
    {
      "cell_type": "code",
      "source": [],
      "metadata": {
        "id": "9myK3HPrVevk"
      },
      "execution_count": null,
      "outputs": []
    },
    {
      "cell_type": "code",
      "source": [],
      "metadata": {
        "id": "qtakkW9EVezN"
      },
      "execution_count": null,
      "outputs": []
    },
    {
      "cell_type": "code",
      "source": [
        "'''The Zumba trainer claims to the customers, that their new dance routine helps to reduce more weight.\n",
        "\n",
        "Weight of 8 people were recorded before and after following the new Zumba training for a month:\n",
        "\n",
        "wt_before = [85, 74, 63.5, 69.4, 71.6, 65,90,78]\n",
        "\n",
        "wt_after = [82, 71, 64, 65.2, 67.8, 64.7,95,77]\n",
        "\n",
        "Test the trainer's claim with 90% confidence. Further, what would be the pvalue?'''"
      ],
      "metadata": {
        "id": "3WSf295DVe_E"
      },
      "execution_count": null,
      "outputs": []
    },
    {
      "cell_type": "code",
      "source": [
        "wt_before = [85, 74, 63.5, 69.4, 71.6, 65,90,78]\n",
        "\n",
        "wt_after = [82, 71, 64, 65.2, 67.8, 64.7,95,77]\n",
        "\n",
        "ttest_rel(wt_after,wt_before,alternative='less')"
      ],
      "metadata": {
        "colab": {
          "base_uri": "https://localhost:8080/"
        },
        "id": "8ObGciu3VhZ8",
        "outputId": "c3b17079-8a7e-4d16-beef-be79dd56eb8f"
      },
      "execution_count": 16,
      "outputs": [
        {
          "output_type": "execute_result",
          "data": {
            "text/plain": [
              "TtestResult(statistic=-1.1421853793555032, pvalue=0.14546808501326386, df=7)"
            ]
          },
          "metadata": {},
          "execution_count": 16
        }
      ]
    },
    {
      "cell_type": "code",
      "source": [],
      "metadata": {
        "id": "myD-7prFV311"
      },
      "execution_count": null,
      "outputs": []
    },
    {
      "cell_type": "code",
      "source": [],
      "metadata": {
        "id": "rHogft6oV39V"
      },
      "execution_count": null,
      "outputs": []
    },
    {
      "cell_type": "code",
      "source": [
        "'''A certain company decided to roll out a new training regime for its employees.\n",
        "\n",
        "To test which regime (old or new) would be preferred by the employees, they made 5 employees (who had earlier cleared the old regime) take part in the new training regime, and then score them both, out of 100.\n",
        "\n",
        "Which of the following statistical procedures would be most appropriate to test the claim that employee overall scores are the same in both training regimes?'''\n",
        "\n",
        "---two tailed two sample relative/dependent ttest"
      ],
      "metadata": {
        "id": "fHxZt1hlV4BF"
      },
      "execution_count": null,
      "outputs": []
    },
    {
      "cell_type": "code",
      "source": [],
      "metadata": {
        "id": "VSOhfohLXLdF"
      },
      "execution_count": null,
      "outputs": []
    },
    {
      "cell_type": "code",
      "source": [],
      "metadata": {
        "id": "HDPTMv9GXLg1"
      },
      "execution_count": null,
      "outputs": []
    },
    {
      "cell_type": "code",
      "source": [
        "'''You are appointed as a Data Analyst for a training program deployed by the Government of India.\n",
        "\n",
        "The participants’ skills were tested before and after the training using some metrics on a scale of 10.\n",
        "\n",
        "before = [2.45, 0.69, 1.80, 2.80, 0.07, 1.67, 2.93, 0.47, 1.45, 1.34]\n",
        "\n",
        "after = [7.71, 2.17, 5.65, 8.79, 0.23, 5.23, 9.19, 1.49, 4.56, 4.20]\n",
        "Conduct an appropriate test to assess a statistically significant increase in the average skill score after the training program, and then answer the below questions accordingly.\n",
        "\n",
        "Note: Perform the test at alpha = 5%.'''"
      ],
      "metadata": {
        "id": "3qlw0vz1XLu8"
      },
      "execution_count": null,
      "outputs": []
    },
    {
      "cell_type": "code",
      "source": [
        "before = [2.45, 0.69, 1.80, 2.80, 0.07, 1.67, 2.93, 0.47, 1.45, 1.34]\n",
        "\n",
        "after = [7.71, 2.17, 5.65, 8.79, 0.23, 5.23, 9.19, 1.49, 4.56, 4.20]\n",
        "\n",
        "ttest_rel(after,before,alternative='greater')"
      ],
      "metadata": {
        "colab": {
          "base_uri": "https://localhost:8080/"
        },
        "id": "o4Yisw_BXN70",
        "outputId": "91280f98-8f46-4e60-c625-b3ca2f395a45"
      },
      "execution_count": 19,
      "outputs": [
        {
          "output_type": "execute_result",
          "data": {
            "text/plain": [
              "TtestResult(statistic=5.111096450191605, pvalue=0.00031778119819482275, df=9)"
            ]
          },
          "metadata": {},
          "execution_count": 19
        }
      ]
    },
    {
      "cell_type": "code",
      "source": [],
      "metadata": {
        "id": "Zt9Zhc0XV8Pu"
      },
      "execution_count": null,
      "outputs": []
    },
    {
      "cell_type": "code",
      "source": [],
      "metadata": {
        "id": "lz-jTFJMarsz"
      },
      "execution_count": null,
      "outputs": []
    },
    {
      "cell_type": "code",
      "source": [],
      "metadata": {
        "id": "5YWHLTJ0arv7"
      },
      "execution_count": null,
      "outputs": []
    },
    {
      "cell_type": "code",
      "source": [
        "'''The average British man is 175.3 cm tall. A survey recorded the heights of 10 UK men and we want to know whether the mean of the sample is different from the population mean.\n",
        "\n",
        "survey_height = [177.3, 182.7, 169.6, 176.3, 180.3, 179.4, 178.5, 177.2, 181.8, 176.5]\n",
        "\n",
        "Perform an appropriate test and choose the correct option below, that we can conclude with a 5% significance.'''"
      ],
      "metadata": {
        "id": "ac3Wj558arzv"
      },
      "execution_count": null,
      "outputs": []
    },
    {
      "cell_type": "code",
      "source": [
        "\n",
        "survey_height = [177.3, 182.7, 169.6, 176.3, 180.3, 179.4, 178.5, 177.2, 181.8, 176.5]\n",
        "ttest_1samp(survey_height,175.3)"
      ],
      "metadata": {
        "colab": {
          "base_uri": "https://localhost:8080/"
        },
        "id": "aCbbFodZauuT",
        "outputId": "ca763458-3367-435e-98ad-5ff93d5c7f6f"
      },
      "execution_count": 20,
      "outputs": [
        {
          "output_type": "execute_result",
          "data": {
            "text/plain": [
              "TtestResult(statistic=2.295568968083183, pvalue=0.04734137339747034, df=9)"
            ]
          },
          "metadata": {},
          "execution_count": 20
        }
      ]
    },
    {
      "cell_type": "code",
      "source": [],
      "metadata": {
        "id": "mLdddekQbJDb"
      },
      "execution_count": null,
      "outputs": []
    },
    {
      "cell_type": "code",
      "source": [],
      "metadata": {
        "id": "rNcfL6F6bJGt"
      },
      "execution_count": null,
      "outputs": []
    },
    {
      "cell_type": "code",
      "source": [
        "'''Samples of IQ scores are collected from two competing schools, as follows:\n",
        "\n",
        "school_1 = [115, 111, 112, 101, 95, 98, 100, 90, 89, 108]\n",
        "school_2 = [107, 103, 91, 99, 104, 98, 117, 113, 92, 96, 108, 115, 116, 88]\n",
        "Perform an appropriate test with a 5% significance level to check if there is any statistically significant difference in the mean IQ's of these schools.\n",
        "\n",
        "Choose the correct option below :'''\n",
        "\n",
        "\n",
        "school_1 = [115, 111, 112, 101, 95, 98, 100, 90, 89, 108]\n",
        "school_2 = [107, 103, 91, 99, 104, 98, 117, 113, 92, 96, 108, 115, 116, 88]\n",
        "\n",
        "ttest_ind(school_1,school_2)"
      ],
      "metadata": {
        "colab": {
          "base_uri": "https://localhost:8080/"
        },
        "id": "_wrDJSV3bJJy",
        "outputId": "cf8946d5-7cf6-47d7-9a86-66aeda71764d"
      },
      "execution_count": 21,
      "outputs": [
        {
          "output_type": "execute_result",
          "data": {
            "text/plain": [
              "TtestResult(statistic=-0.36928503344341035, pvalue=0.7154458095186707, df=22.0)"
            ]
          },
          "metadata": {},
          "execution_count": 21
        }
      ]
    }
  ]
}