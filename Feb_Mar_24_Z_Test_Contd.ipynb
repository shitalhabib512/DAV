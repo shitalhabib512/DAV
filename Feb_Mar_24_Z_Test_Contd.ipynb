{
  "nbformat": 4,
  "nbformat_minor": 0,
  "metadata": {
    "colab": {
      "provenance": [],
      "collapsed_sections": [
        "x1gdX3Dn1Qrm",
        "_neXYfEzG1Tv"
      ],
      "include_colab_link": true
    },
    "kernelspec": {
      "name": "python3",
      "display_name": "Python 3"
    },
    "language_info": {
      "name": "python"
    }
  },
  "cells": [
    {
      "cell_type": "markdown",
      "metadata": {
        "id": "view-in-github",
        "colab_type": "text"
      },
      "source": [
        "<a href=\"https://colab.research.google.com/github/shitalhabib512/DAV/blob/main/Feb_Mar_24_Z_Test_Contd.ipynb\" target=\"_parent\"><img src=\"https://colab.research.google.com/assets/colab-badge.svg\" alt=\"Open In Colab\"/></a>"
      ]
    },
    {
      "cell_type": "code",
      "execution_count": 1,
      "metadata": {
        "id": "4t56vEDZKZJC"
      },
      "outputs": [],
      "source": [
        "#importing required libraries\n",
        "\n",
        "import numpy as np\n",
        "import pandas as pd\n",
        "\n",
        "import matplotlib.pyplot as plt\n",
        "import seaborn as sns\n",
        "\n",
        "from scipy import stats\n",
        "from statsmodels.stats.proportion import proportions_ztest\n",
        "\n"
      ]
    },
    {
      "cell_type": "markdown",
      "source": [
        "#----------------------------------------   Part 1: \"Two Sample T_Test\"  --------------------------------------------"
      ],
      "metadata": {
        "id": "nhPM4dNEQgRs"
      }
    },
    {
      "cell_type": "markdown",
      "source": [
        "#Height Population Data"
      ],
      "metadata": {
        "id": "vxvv1eJDKmAz"
      }
    },
    {
      "cell_type": "code",
      "source": [
        "#Load weight-height data\n",
        "\n",
        "!gdown 12zss9SplRh1xr38o4WHOFJ0WRlpAJbrG\n",
        "\n",
        "df = pd.read_csv(\"weight-height.csv\")\n",
        "\n",
        "print(\"\\n\\n\")\n",
        "df.head()"
      ],
      "metadata": {
        "colab": {
          "base_uri": "https://localhost:8080/",
          "height": 328
        },
        "id": "ckG3p9fPKr8x",
        "outputId": "daa9762b-1533-4c1d-f9a6-035ad2247fc1"
      },
      "execution_count": null,
      "outputs": [
        {
          "output_type": "stream",
          "name": "stdout",
          "text": [
            "Downloading...\n",
            "From: https://drive.google.com/uc?id=12zss9SplRh1xr38o4WHOFJ0WRlpAJbrG\n",
            "To: /content/weight-height.csv\n",
            "\r  0% 0.00/180k [00:00<?, ?B/s]\r100% 180k/180k [00:00<00:00, 72.8MB/s]\n",
            "\n",
            "\n",
            "\n"
          ]
        },
        {
          "output_type": "execute_result",
          "data": {
            "text/plain": [
              "  Gender  Height  Weight\n",
              "0   Male    73.8   241.9\n",
              "1   Male    68.8   162.3\n",
              "2   Male    74.1   212.7\n",
              "3   Male    71.7   220.0\n",
              "4   Male    69.9   206.3"
            ],
            "text/html": [
              "\n",
              "  <div id=\"df-f4b49d51-c330-4462-aeec-97ed1d814cac\" class=\"colab-df-container\">\n",
              "    <div>\n",
              "<style scoped>\n",
              "    .dataframe tbody tr th:only-of-type {\n",
              "        vertical-align: middle;\n",
              "    }\n",
              "\n",
              "    .dataframe tbody tr th {\n",
              "        vertical-align: top;\n",
              "    }\n",
              "\n",
              "    .dataframe thead th {\n",
              "        text-align: right;\n",
              "    }\n",
              "</style>\n",
              "<table border=\"1\" class=\"dataframe\">\n",
              "  <thead>\n",
              "    <tr style=\"text-align: right;\">\n",
              "      <th></th>\n",
              "      <th>Gender</th>\n",
              "      <th>Height</th>\n",
              "      <th>Weight</th>\n",
              "    </tr>\n",
              "  </thead>\n",
              "  <tbody>\n",
              "    <tr>\n",
              "      <th>0</th>\n",
              "      <td>Male</td>\n",
              "      <td>73.8</td>\n",
              "      <td>241.9</td>\n",
              "    </tr>\n",
              "    <tr>\n",
              "      <th>1</th>\n",
              "      <td>Male</td>\n",
              "      <td>68.8</td>\n",
              "      <td>162.3</td>\n",
              "    </tr>\n",
              "    <tr>\n",
              "      <th>2</th>\n",
              "      <td>Male</td>\n",
              "      <td>74.1</td>\n",
              "      <td>212.7</td>\n",
              "    </tr>\n",
              "    <tr>\n",
              "      <th>3</th>\n",
              "      <td>Male</td>\n",
              "      <td>71.7</td>\n",
              "      <td>220.0</td>\n",
              "    </tr>\n",
              "    <tr>\n",
              "      <th>4</th>\n",
              "      <td>Male</td>\n",
              "      <td>69.9</td>\n",
              "      <td>206.3</td>\n",
              "    </tr>\n",
              "  </tbody>\n",
              "</table>\n",
              "</div>\n",
              "    <div class=\"colab-df-buttons\">\n",
              "\n",
              "  <div class=\"colab-df-container\">\n",
              "    <button class=\"colab-df-convert\" onclick=\"convertToInteractive('df-f4b49d51-c330-4462-aeec-97ed1d814cac')\"\n",
              "            title=\"Convert this dataframe to an interactive table.\"\n",
              "            style=\"display:none;\">\n",
              "\n",
              "  <svg xmlns=\"http://www.w3.org/2000/svg\" height=\"24px\" viewBox=\"0 -960 960 960\">\n",
              "    <path d=\"M120-120v-720h720v720H120Zm60-500h600v-160H180v160Zm220 220h160v-160H400v160Zm0 220h160v-160H400v160ZM180-400h160v-160H180v160Zm440 0h160v-160H620v160ZM180-180h160v-160H180v160Zm440 0h160v-160H620v160Z\"/>\n",
              "  </svg>\n",
              "    </button>\n",
              "\n",
              "  <style>\n",
              "    .colab-df-container {\n",
              "      display:flex;\n",
              "      gap: 12px;\n",
              "    }\n",
              "\n",
              "    .colab-df-convert {\n",
              "      background-color: #E8F0FE;\n",
              "      border: none;\n",
              "      border-radius: 50%;\n",
              "      cursor: pointer;\n",
              "      display: none;\n",
              "      fill: #1967D2;\n",
              "      height: 32px;\n",
              "      padding: 0 0 0 0;\n",
              "      width: 32px;\n",
              "    }\n",
              "\n",
              "    .colab-df-convert:hover {\n",
              "      background-color: #E2EBFA;\n",
              "      box-shadow: 0px 1px 2px rgba(60, 64, 67, 0.3), 0px 1px 3px 1px rgba(60, 64, 67, 0.15);\n",
              "      fill: #174EA6;\n",
              "    }\n",
              "\n",
              "    .colab-df-buttons div {\n",
              "      margin-bottom: 4px;\n",
              "    }\n",
              "\n",
              "    [theme=dark] .colab-df-convert {\n",
              "      background-color: #3B4455;\n",
              "      fill: #D2E3FC;\n",
              "    }\n",
              "\n",
              "    [theme=dark] .colab-df-convert:hover {\n",
              "      background-color: #434B5C;\n",
              "      box-shadow: 0px 1px 3px 1px rgba(0, 0, 0, 0.15);\n",
              "      filter: drop-shadow(0px 1px 2px rgba(0, 0, 0, 0.3));\n",
              "      fill: #FFFFFF;\n",
              "    }\n",
              "  </style>\n",
              "\n",
              "    <script>\n",
              "      const buttonEl =\n",
              "        document.querySelector('#df-f4b49d51-c330-4462-aeec-97ed1d814cac button.colab-df-convert');\n",
              "      buttonEl.style.display =\n",
              "        google.colab.kernel.accessAllowed ? 'block' : 'none';\n",
              "\n",
              "      async function convertToInteractive(key) {\n",
              "        const element = document.querySelector('#df-f4b49d51-c330-4462-aeec-97ed1d814cac');\n",
              "        const dataTable =\n",
              "          await google.colab.kernel.invokeFunction('convertToInteractive',\n",
              "                                                    [key], {});\n",
              "        if (!dataTable) return;\n",
              "\n",
              "        const docLinkHtml = 'Like what you see? Visit the ' +\n",
              "          '<a target=\"_blank\" href=https://colab.research.google.com/notebooks/data_table.ipynb>data table notebook</a>'\n",
              "          + ' to learn more about interactive tables.';\n",
              "        element.innerHTML = '';\n",
              "        dataTable['output_type'] = 'display_data';\n",
              "        await google.colab.output.renderOutput(dataTable, element);\n",
              "        const docLink = document.createElement('div');\n",
              "        docLink.innerHTML = docLinkHtml;\n",
              "        element.appendChild(docLink);\n",
              "      }\n",
              "    </script>\n",
              "  </div>\n",
              "\n",
              "\n",
              "<div id=\"df-57537820-416e-41a7-8e14-486b277100ce\">\n",
              "  <button class=\"colab-df-quickchart\" onclick=\"quickchart('df-57537820-416e-41a7-8e14-486b277100ce')\"\n",
              "            title=\"Suggest charts\"\n",
              "            style=\"display:none;\">\n",
              "\n",
              "<svg xmlns=\"http://www.w3.org/2000/svg\" height=\"24px\"viewBox=\"0 0 24 24\"\n",
              "     width=\"24px\">\n",
              "    <g>\n",
              "        <path d=\"M19 3H5c-1.1 0-2 .9-2 2v14c0 1.1.9 2 2 2h14c1.1 0 2-.9 2-2V5c0-1.1-.9-2-2-2zM9 17H7v-7h2v7zm4 0h-2V7h2v10zm4 0h-2v-4h2v4z\"/>\n",
              "    </g>\n",
              "</svg>\n",
              "  </button>\n",
              "\n",
              "<style>\n",
              "  .colab-df-quickchart {\n",
              "      --bg-color: #E8F0FE;\n",
              "      --fill-color: #1967D2;\n",
              "      --hover-bg-color: #E2EBFA;\n",
              "      --hover-fill-color: #174EA6;\n",
              "      --disabled-fill-color: #AAA;\n",
              "      --disabled-bg-color: #DDD;\n",
              "  }\n",
              "\n",
              "  [theme=dark] .colab-df-quickchart {\n",
              "      --bg-color: #3B4455;\n",
              "      --fill-color: #D2E3FC;\n",
              "      --hover-bg-color: #434B5C;\n",
              "      --hover-fill-color: #FFFFFF;\n",
              "      --disabled-bg-color: #3B4455;\n",
              "      --disabled-fill-color: #666;\n",
              "  }\n",
              "\n",
              "  .colab-df-quickchart {\n",
              "    background-color: var(--bg-color);\n",
              "    border: none;\n",
              "    border-radius: 50%;\n",
              "    cursor: pointer;\n",
              "    display: none;\n",
              "    fill: var(--fill-color);\n",
              "    height: 32px;\n",
              "    padding: 0;\n",
              "    width: 32px;\n",
              "  }\n",
              "\n",
              "  .colab-df-quickchart:hover {\n",
              "    background-color: var(--hover-bg-color);\n",
              "    box-shadow: 0 1px 2px rgba(60, 64, 67, 0.3), 0 1px 3px 1px rgba(60, 64, 67, 0.15);\n",
              "    fill: var(--button-hover-fill-color);\n",
              "  }\n",
              "\n",
              "  .colab-df-quickchart-complete:disabled,\n",
              "  .colab-df-quickchart-complete:disabled:hover {\n",
              "    background-color: var(--disabled-bg-color);\n",
              "    fill: var(--disabled-fill-color);\n",
              "    box-shadow: none;\n",
              "  }\n",
              "\n",
              "  .colab-df-spinner {\n",
              "    border: 2px solid var(--fill-color);\n",
              "    border-color: transparent;\n",
              "    border-bottom-color: var(--fill-color);\n",
              "    animation:\n",
              "      spin 1s steps(1) infinite;\n",
              "  }\n",
              "\n",
              "  @keyframes spin {\n",
              "    0% {\n",
              "      border-color: transparent;\n",
              "      border-bottom-color: var(--fill-color);\n",
              "      border-left-color: var(--fill-color);\n",
              "    }\n",
              "    20% {\n",
              "      border-color: transparent;\n",
              "      border-left-color: var(--fill-color);\n",
              "      border-top-color: var(--fill-color);\n",
              "    }\n",
              "    30% {\n",
              "      border-color: transparent;\n",
              "      border-left-color: var(--fill-color);\n",
              "      border-top-color: var(--fill-color);\n",
              "      border-right-color: var(--fill-color);\n",
              "    }\n",
              "    40% {\n",
              "      border-color: transparent;\n",
              "      border-right-color: var(--fill-color);\n",
              "      border-top-color: var(--fill-color);\n",
              "    }\n",
              "    60% {\n",
              "      border-color: transparent;\n",
              "      border-right-color: var(--fill-color);\n",
              "    }\n",
              "    80% {\n",
              "      border-color: transparent;\n",
              "      border-right-color: var(--fill-color);\n",
              "      border-bottom-color: var(--fill-color);\n",
              "    }\n",
              "    90% {\n",
              "      border-color: transparent;\n",
              "      border-bottom-color: var(--fill-color);\n",
              "    }\n",
              "  }\n",
              "</style>\n",
              "\n",
              "  <script>\n",
              "    async function quickchart(key) {\n",
              "      const quickchartButtonEl =\n",
              "        document.querySelector('#' + key + ' button');\n",
              "      quickchartButtonEl.disabled = true;  // To prevent multiple clicks.\n",
              "      quickchartButtonEl.classList.add('colab-df-spinner');\n",
              "      try {\n",
              "        const charts = await google.colab.kernel.invokeFunction(\n",
              "            'suggestCharts', [key], {});\n",
              "      } catch (error) {\n",
              "        console.error('Error during call to suggestCharts:', error);\n",
              "      }\n",
              "      quickchartButtonEl.classList.remove('colab-df-spinner');\n",
              "      quickchartButtonEl.classList.add('colab-df-quickchart-complete');\n",
              "    }\n",
              "    (() => {\n",
              "      let quickchartButtonEl =\n",
              "        document.querySelector('#df-57537820-416e-41a7-8e14-486b277100ce button');\n",
              "      quickchartButtonEl.style.display =\n",
              "        google.colab.kernel.accessAllowed ? 'block' : 'none';\n",
              "    })();\n",
              "  </script>\n",
              "</div>\n",
              "\n",
              "    </div>\n",
              "  </div>\n"
            ],
            "application/vnd.google.colaboratory.intrinsic+json": {
              "type": "dataframe",
              "variable_name": "df",
              "summary": "{\n  \"name\": \"df\",\n  \"rows\": 10000,\n  \"fields\": [\n    {\n      \"column\": \"Gender\",\n      \"properties\": {\n        \"dtype\": \"category\",\n        \"num_unique_values\": 2,\n        \"samples\": [\n          \"Female\",\n          \"Male\"\n        ],\n        \"semantic_type\": \"\",\n        \"description\": \"\"\n      }\n    },\n    {\n      \"column\": \"Height\",\n      \"properties\": {\n        \"dtype\": \"number\",\n        \"std\": 3.848151150140477,\n        \"min\": 54.3,\n        \"max\": 79.0,\n        \"num_unique_values\": 225,\n        \"samples\": [\n          71.2,\n          56.2\n        ],\n        \"semantic_type\": \"\",\n        \"description\": \"\"\n      }\n    },\n    {\n      \"column\": \"Weight\",\n      \"properties\": {\n        \"dtype\": \"number\",\n        \"std\": 32.108270241320845,\n        \"min\": 64.7,\n        \"max\": 270.0,\n        \"num_unique_values\": 1427,\n        \"samples\": [\n          151.0,\n          146.8\n        ],\n        \"semantic_type\": \"\",\n        \"description\": \"\"\n      }\n    }\n  ]\n}"
            }
          },
          "metadata": {},
          "execution_count": 3
        }
      ]
    },
    {
      "cell_type": "code",
      "source": [
        "#Assigning Random Hats to people in df\n",
        "\n",
        "df['Hat_Colour'] = np.random.choice([\"Red\",\"Blue\"],size=len(df))\n",
        "\n",
        "df.head()"
      ],
      "metadata": {
        "colab": {
          "base_uri": "https://localhost:8080/",
          "height": 206
        },
        "id": "PUSixBiQKuEJ",
        "outputId": "bd81ed0a-918f-46b4-9fbd-b6a720a2a40b"
      },
      "execution_count": null,
      "outputs": [
        {
          "output_type": "execute_result",
          "data": {
            "text/plain": [
              "  Gender  Height  Weight Hat_Colour\n",
              "0   Male    73.8   241.9        Red\n",
              "1   Male    68.8   162.3        Red\n",
              "2   Male    74.1   212.7       Blue\n",
              "3   Male    71.7   220.0       Blue\n",
              "4   Male    69.9   206.3        Red"
            ],
            "text/html": [
              "\n",
              "  <div id=\"df-0dded294-3932-42c4-9a7d-b4b712ab1416\" class=\"colab-df-container\">\n",
              "    <div>\n",
              "<style scoped>\n",
              "    .dataframe tbody tr th:only-of-type {\n",
              "        vertical-align: middle;\n",
              "    }\n",
              "\n",
              "    .dataframe tbody tr th {\n",
              "        vertical-align: top;\n",
              "    }\n",
              "\n",
              "    .dataframe thead th {\n",
              "        text-align: right;\n",
              "    }\n",
              "</style>\n",
              "<table border=\"1\" class=\"dataframe\">\n",
              "  <thead>\n",
              "    <tr style=\"text-align: right;\">\n",
              "      <th></th>\n",
              "      <th>Gender</th>\n",
              "      <th>Height</th>\n",
              "      <th>Weight</th>\n",
              "      <th>Hat_Colour</th>\n",
              "    </tr>\n",
              "  </thead>\n",
              "  <tbody>\n",
              "    <tr>\n",
              "      <th>0</th>\n",
              "      <td>Male</td>\n",
              "      <td>73.8</td>\n",
              "      <td>241.9</td>\n",
              "      <td>Red</td>\n",
              "    </tr>\n",
              "    <tr>\n",
              "      <th>1</th>\n",
              "      <td>Male</td>\n",
              "      <td>68.8</td>\n",
              "      <td>162.3</td>\n",
              "      <td>Red</td>\n",
              "    </tr>\n",
              "    <tr>\n",
              "      <th>2</th>\n",
              "      <td>Male</td>\n",
              "      <td>74.1</td>\n",
              "      <td>212.7</td>\n",
              "      <td>Blue</td>\n",
              "    </tr>\n",
              "    <tr>\n",
              "      <th>3</th>\n",
              "      <td>Male</td>\n",
              "      <td>71.7</td>\n",
              "      <td>220.0</td>\n",
              "      <td>Blue</td>\n",
              "    </tr>\n",
              "    <tr>\n",
              "      <th>4</th>\n",
              "      <td>Male</td>\n",
              "      <td>69.9</td>\n",
              "      <td>206.3</td>\n",
              "      <td>Red</td>\n",
              "    </tr>\n",
              "  </tbody>\n",
              "</table>\n",
              "</div>\n",
              "    <div class=\"colab-df-buttons\">\n",
              "\n",
              "  <div class=\"colab-df-container\">\n",
              "    <button class=\"colab-df-convert\" onclick=\"convertToInteractive('df-0dded294-3932-42c4-9a7d-b4b712ab1416')\"\n",
              "            title=\"Convert this dataframe to an interactive table.\"\n",
              "            style=\"display:none;\">\n",
              "\n",
              "  <svg xmlns=\"http://www.w3.org/2000/svg\" height=\"24px\" viewBox=\"0 -960 960 960\">\n",
              "    <path d=\"M120-120v-720h720v720H120Zm60-500h600v-160H180v160Zm220 220h160v-160H400v160Zm0 220h160v-160H400v160ZM180-400h160v-160H180v160Zm440 0h160v-160H620v160ZM180-180h160v-160H180v160Zm440 0h160v-160H620v160Z\"/>\n",
              "  </svg>\n",
              "    </button>\n",
              "\n",
              "  <style>\n",
              "    .colab-df-container {\n",
              "      display:flex;\n",
              "      gap: 12px;\n",
              "    }\n",
              "\n",
              "    .colab-df-convert {\n",
              "      background-color: #E8F0FE;\n",
              "      border: none;\n",
              "      border-radius: 50%;\n",
              "      cursor: pointer;\n",
              "      display: none;\n",
              "      fill: #1967D2;\n",
              "      height: 32px;\n",
              "      padding: 0 0 0 0;\n",
              "      width: 32px;\n",
              "    }\n",
              "\n",
              "    .colab-df-convert:hover {\n",
              "      background-color: #E2EBFA;\n",
              "      box-shadow: 0px 1px 2px rgba(60, 64, 67, 0.3), 0px 1px 3px 1px rgba(60, 64, 67, 0.15);\n",
              "      fill: #174EA6;\n",
              "    }\n",
              "\n",
              "    .colab-df-buttons div {\n",
              "      margin-bottom: 4px;\n",
              "    }\n",
              "\n",
              "    [theme=dark] .colab-df-convert {\n",
              "      background-color: #3B4455;\n",
              "      fill: #D2E3FC;\n",
              "    }\n",
              "\n",
              "    [theme=dark] .colab-df-convert:hover {\n",
              "      background-color: #434B5C;\n",
              "      box-shadow: 0px 1px 3px 1px rgba(0, 0, 0, 0.15);\n",
              "      filter: drop-shadow(0px 1px 2px rgba(0, 0, 0, 0.3));\n",
              "      fill: #FFFFFF;\n",
              "    }\n",
              "  </style>\n",
              "\n",
              "    <script>\n",
              "      const buttonEl =\n",
              "        document.querySelector('#df-0dded294-3932-42c4-9a7d-b4b712ab1416 button.colab-df-convert');\n",
              "      buttonEl.style.display =\n",
              "        google.colab.kernel.accessAllowed ? 'block' : 'none';\n",
              "\n",
              "      async function convertToInteractive(key) {\n",
              "        const element = document.querySelector('#df-0dded294-3932-42c4-9a7d-b4b712ab1416');\n",
              "        const dataTable =\n",
              "          await google.colab.kernel.invokeFunction('convertToInteractive',\n",
              "                                                    [key], {});\n",
              "        if (!dataTable) return;\n",
              "\n",
              "        const docLinkHtml = 'Like what you see? Visit the ' +\n",
              "          '<a target=\"_blank\" href=https://colab.research.google.com/notebooks/data_table.ipynb>data table notebook</a>'\n",
              "          + ' to learn more about interactive tables.';\n",
              "        element.innerHTML = '';\n",
              "        dataTable['output_type'] = 'display_data';\n",
              "        await google.colab.output.renderOutput(dataTable, element);\n",
              "        const docLink = document.createElement('div');\n",
              "        docLink.innerHTML = docLinkHtml;\n",
              "        element.appendChild(docLink);\n",
              "      }\n",
              "    </script>\n",
              "  </div>\n",
              "\n",
              "\n",
              "<div id=\"df-90dd17a1-7c91-432f-aa62-8c9419f4bbc9\">\n",
              "  <button class=\"colab-df-quickchart\" onclick=\"quickchart('df-90dd17a1-7c91-432f-aa62-8c9419f4bbc9')\"\n",
              "            title=\"Suggest charts\"\n",
              "            style=\"display:none;\">\n",
              "\n",
              "<svg xmlns=\"http://www.w3.org/2000/svg\" height=\"24px\"viewBox=\"0 0 24 24\"\n",
              "     width=\"24px\">\n",
              "    <g>\n",
              "        <path d=\"M19 3H5c-1.1 0-2 .9-2 2v14c0 1.1.9 2 2 2h14c1.1 0 2-.9 2-2V5c0-1.1-.9-2-2-2zM9 17H7v-7h2v7zm4 0h-2V7h2v10zm4 0h-2v-4h2v4z\"/>\n",
              "    </g>\n",
              "</svg>\n",
              "  </button>\n",
              "\n",
              "<style>\n",
              "  .colab-df-quickchart {\n",
              "      --bg-color: #E8F0FE;\n",
              "      --fill-color: #1967D2;\n",
              "      --hover-bg-color: #E2EBFA;\n",
              "      --hover-fill-color: #174EA6;\n",
              "      --disabled-fill-color: #AAA;\n",
              "      --disabled-bg-color: #DDD;\n",
              "  }\n",
              "\n",
              "  [theme=dark] .colab-df-quickchart {\n",
              "      --bg-color: #3B4455;\n",
              "      --fill-color: #D2E3FC;\n",
              "      --hover-bg-color: #434B5C;\n",
              "      --hover-fill-color: #FFFFFF;\n",
              "      --disabled-bg-color: #3B4455;\n",
              "      --disabled-fill-color: #666;\n",
              "  }\n",
              "\n",
              "  .colab-df-quickchart {\n",
              "    background-color: var(--bg-color);\n",
              "    border: none;\n",
              "    border-radius: 50%;\n",
              "    cursor: pointer;\n",
              "    display: none;\n",
              "    fill: var(--fill-color);\n",
              "    height: 32px;\n",
              "    padding: 0;\n",
              "    width: 32px;\n",
              "  }\n",
              "\n",
              "  .colab-df-quickchart:hover {\n",
              "    background-color: var(--hover-bg-color);\n",
              "    box-shadow: 0 1px 2px rgba(60, 64, 67, 0.3), 0 1px 3px 1px rgba(60, 64, 67, 0.15);\n",
              "    fill: var(--button-hover-fill-color);\n",
              "  }\n",
              "\n",
              "  .colab-df-quickchart-complete:disabled,\n",
              "  .colab-df-quickchart-complete:disabled:hover {\n",
              "    background-color: var(--disabled-bg-color);\n",
              "    fill: var(--disabled-fill-color);\n",
              "    box-shadow: none;\n",
              "  }\n",
              "\n",
              "  .colab-df-spinner {\n",
              "    border: 2px solid var(--fill-color);\n",
              "    border-color: transparent;\n",
              "    border-bottom-color: var(--fill-color);\n",
              "    animation:\n",
              "      spin 1s steps(1) infinite;\n",
              "  }\n",
              "\n",
              "  @keyframes spin {\n",
              "    0% {\n",
              "      border-color: transparent;\n",
              "      border-bottom-color: var(--fill-color);\n",
              "      border-left-color: var(--fill-color);\n",
              "    }\n",
              "    20% {\n",
              "      border-color: transparent;\n",
              "      border-left-color: var(--fill-color);\n",
              "      border-top-color: var(--fill-color);\n",
              "    }\n",
              "    30% {\n",
              "      border-color: transparent;\n",
              "      border-left-color: var(--fill-color);\n",
              "      border-top-color: var(--fill-color);\n",
              "      border-right-color: var(--fill-color);\n",
              "    }\n",
              "    40% {\n",
              "      border-color: transparent;\n",
              "      border-right-color: var(--fill-color);\n",
              "      border-top-color: var(--fill-color);\n",
              "    }\n",
              "    60% {\n",
              "      border-color: transparent;\n",
              "      border-right-color: var(--fill-color);\n",
              "    }\n",
              "    80% {\n",
              "      border-color: transparent;\n",
              "      border-right-color: var(--fill-color);\n",
              "      border-bottom-color: var(--fill-color);\n",
              "    }\n",
              "    90% {\n",
              "      border-color: transparent;\n",
              "      border-bottom-color: var(--fill-color);\n",
              "    }\n",
              "  }\n",
              "</style>\n",
              "\n",
              "  <script>\n",
              "    async function quickchart(key) {\n",
              "      const quickchartButtonEl =\n",
              "        document.querySelector('#' + key + ' button');\n",
              "      quickchartButtonEl.disabled = true;  // To prevent multiple clicks.\n",
              "      quickchartButtonEl.classList.add('colab-df-spinner');\n",
              "      try {\n",
              "        const charts = await google.colab.kernel.invokeFunction(\n",
              "            'suggestCharts', [key], {});\n",
              "      } catch (error) {\n",
              "        console.error('Error during call to suggestCharts:', error);\n",
              "      }\n",
              "      quickchartButtonEl.classList.remove('colab-df-spinner');\n",
              "      quickchartButtonEl.classList.add('colab-df-quickchart-complete');\n",
              "    }\n",
              "    (() => {\n",
              "      let quickchartButtonEl =\n",
              "        document.querySelector('#df-90dd17a1-7c91-432f-aa62-8c9419f4bbc9 button');\n",
              "      quickchartButtonEl.style.display =\n",
              "        google.colab.kernel.accessAllowed ? 'block' : 'none';\n",
              "    })();\n",
              "  </script>\n",
              "</div>\n",
              "\n",
              "    </div>\n",
              "  </div>\n"
            ],
            "application/vnd.google.colaboratory.intrinsic+json": {
              "type": "dataframe",
              "variable_name": "df",
              "summary": "{\n  \"name\": \"df\",\n  \"rows\": 10000,\n  \"fields\": [\n    {\n      \"column\": \"Gender\",\n      \"properties\": {\n        \"dtype\": \"category\",\n        \"num_unique_values\": 2,\n        \"samples\": [\n          \"Female\",\n          \"Male\"\n        ],\n        \"semantic_type\": \"\",\n        \"description\": \"\"\n      }\n    },\n    {\n      \"column\": \"Height\",\n      \"properties\": {\n        \"dtype\": \"number\",\n        \"std\": 3.848151150140477,\n        \"min\": 54.3,\n        \"max\": 79.0,\n        \"num_unique_values\": 225,\n        \"samples\": [\n          71.2,\n          56.2\n        ],\n        \"semantic_type\": \"\",\n        \"description\": \"\"\n      }\n    },\n    {\n      \"column\": \"Weight\",\n      \"properties\": {\n        \"dtype\": \"number\",\n        \"std\": 32.108270241320845,\n        \"min\": 64.7,\n        \"max\": 270.0,\n        \"num_unique_values\": 1427,\n        \"samples\": [\n          151.0,\n          146.8\n        ],\n        \"semantic_type\": \"\",\n        \"description\": \"\"\n      }\n    },\n    {\n      \"column\": \"Hat_Colour\",\n      \"properties\": {\n        \"dtype\": \"category\",\n        \"num_unique_values\": 2,\n        \"samples\": [\n          \"Blue\",\n          \"Red\"\n        ],\n        \"semantic_type\": \"\",\n        \"description\": \"\"\n      }\n    }\n  ]\n}"
            }
          },
          "metadata": {},
          "execution_count": 4
        }
      ]
    },
    {
      "cell_type": "code",
      "source": [
        "#Plot the Distribution of Heights\n",
        "\n",
        "plt.figure(figsize=(16,6))\n",
        "\n",
        "mu_Ht = df['Height'].mean()\n",
        "\n",
        "plt.title(\"Distribution of Heights\")\n",
        "sns.histplot(data=df, x='Height')\n",
        "plt.axvline(mu_Ht, color=\"black\")\n",
        "plt.figtext(0.45, -0.08, f\"mu_Ht = {mu_Ht : .1f} inches\", color=\"black\", fontsize=13)\n",
        "plt.show()"
      ],
      "metadata": {
        "colab": {
          "base_uri": "https://localhost:8080/",
          "height": 422
        },
        "id": "aYcc1aPPKwGa",
        "outputId": "81f14aa3-4d95-458b-ccd3-4e0fd13420b4"
      },
      "execution_count": null,
      "outputs": [
        {
          "output_type": "display_data",
          "data": {
            "text/plain": [
              "<Figure size 1600x600 with 1 Axes>"
            ],
            "image/png": "[encoded data removed]"
          },
          "metadata": {}
        }
      ]
    },
    {
      "cell_type": "code",
      "source": [
        "#Plot the Distributions of Male Heights and Female Heights\n",
        "\n",
        "plt.figure(figsize=(16,6))\n",
        "\n",
        "male_height_mu = df[df[\"Gender\"]==\"Male\"][\"Height\"].mean()\n",
        "female_height_mu = df[df[\"Gender\"]==\"Female\"][\"Height\"].mean()\n",
        "\n",
        "plt.title(\"Distribution of Male Heights and Female Heights\")\n",
        "\n",
        "sns.kdeplot(data=df, x='Height', hue=\"Gender\", palette={'Male':\"purple\", 'Female':\"darkgreen\"})\n",
        "\n",
        "plt.axvline(male_height_mu, color=\"purple\")\n",
        "plt.axvline(female_height_mu, color=\"darkgreen\")\n",
        "\n",
        "plt.figtext(0.46, -0.08, f\"mu_Male_Ht = {male_height_mu : .1f} inches\", color=\"purple\", fontsize=13)\n",
        "plt.figtext(0.45, -0.12, f\"mu_Female_Ht = {female_height_mu : .1f} inches\", color=\"darkgreen\", fontsize=13)\n",
        "\n",
        "plt.show()"
      ],
      "metadata": {
        "colab": {
          "base_uri": "https://localhost:8080/",
          "height": 436
        },
        "id": "olcyASBqKwbE",
        "outputId": "10c307a1-6115-4e92-b224-f43142ebd570"
      },
      "execution_count": null,
      "outputs": [
        {
          "output_type": "display_data",
          "data": {
            "text/plain": [
              "<Figure size 1600x600 with 1 Axes>"
            ],
            "image/png": "[encoded data removed]"
          },
          "metadata": {}
        }
      ]
    },
    {
      "cell_type": "code",
      "source": [
        "#Plot the Distributions of Red_Hat Heights and Blue_Hat Heights\n",
        "\n",
        "plt.figure(figsize=(16,4))\n",
        "\n",
        "RedHat_height_mu = df[df[\"Hat_Colour\"]==\"Red\"][\"Height\"].mean()\n",
        "BlueHat_height_mu = df[df[\"Hat_Colour\"]==\"Blue\"][\"Height\"].mean()\n",
        "\n",
        "plt.title(\"Distribution of Red_Hat Heights and Blue_Hat Heights\")\n",
        "\n",
        "sns.kdeplot(data=df, x='Height', hue=\"Hat_Colour\", palette={'Red':\"red\", 'Blue':\"blue\"})\n",
        "\n",
        "plt.axvline(RedHat_height_mu, color=\"red\")\n",
        "plt.axvline(BlueHat_height_mu, color=\"blue\")\n",
        "\n",
        "plt.figtext(0.45, -0.08, f\"mu_RedHat = {RedHat_height_mu : .1f} inches\", color=\"red\", fontsize=13)\n",
        "plt.figtext(0.45, -0.12, f\"mu_BlueHat = {BlueHat_height_mu : .1f} inches\", color=\"blue\", fontsize=13)\n",
        "\n",
        "plt.show()"
      ],
      "metadata": {
        "colab": {
          "base_uri": "https://localhost:8080/",
          "height": 306
        },
        "id": "SXeYlN8ZKwgZ",
        "outputId": "49688d2e-ddf2-4065-a016-71cc7ed98eb2"
      },
      "execution_count": null,
      "outputs": [
        {
          "output_type": "display_data",
          "data": {
            "text/plain": [
              "<Figure size 1600x400 with 1 Axes>"
            ],
            "image/png": "[encoded data removed]"
          },
          "metadata": {}
        }
      ]
    },
    {
      "cell_type": "markdown",
      "source": [
        "#Samples of Height measurements from the Population"
      ],
      "metadata": {
        "id": "x1gdX3Dn1Qrm"
      }
    },
    {
      "cell_type": "code",
      "source": [
        "print(f\"{'type of sample' : ^25} | {'sample mean' : ^15} | {'sample size' : ^15}\")\n",
        "print(\"-\"*75)\n",
        "\n",
        "#Sample of Male and Female Heights\n",
        "sample_male = df[df[\"Gender\"]==\"Male\"][\"Height\"].sample(10, random_state=12574)\n",
        "sample_female = df[df[\"Gender\"]==\"Female\"][\"Height\"].sample(13, random_state=33721)\n",
        "\n",
        "\n",
        "print(\"\\n\\n\")\n",
        "print(\"-\"*75)\n",
        "print(f\"{'sample_male_Ht' : ^25} | {sample_male.mean() : ^15.1f} | {len(sample_male) : ^15d}\")\n",
        "print(\"-\"*75)\n",
        "print(f\"{'sample_female_Ht' : ^25} | {sample_female.mean() : ^15.1f} | {len(sample_female) : ^15d}\")\n",
        "print(\"-\"*75)\n",
        "\n",
        "\n",
        "#Sample of Red_Hat and Blue_Hat Heights\n",
        "sample_RedHat = df[df[\"Hat_Colour\"]==\"Red\"][\"Height\"].sample(11, random_state=85421)\n",
        "sample_BlueHat = df[df[\"Hat_Colour\"]==\"Blue\"][\"Height\"].sample(13, random_state=47409)\n",
        "\n",
        "print(\"\\n\\n\")\n",
        "print(\"-\"*75)\n",
        "print(f\"{'sample_RedHat_Ht' : ^25} | {sample_RedHat.mean() : ^15.1f} | {len(sample_RedHat) : ^15d}\")\n",
        "print(\"-\"*75)\n",
        "print(f\"{'sample_BlueHat_Ht' : ^25} | {sample_BlueHat.mean() : ^15.1f} | {len(sample_BlueHat) : ^15d}\")\n",
        "print(\"-\"*75)"
      ],
      "metadata": {
        "colab": {
          "base_uri": "https://localhost:8080/"
        },
        "id": "Ar4gliM01Tdu",
        "outputId": "9f696daa-a72f-44f4-849b-ed0862441773"
      },
      "execution_count": null,
      "outputs": [
        {
          "output_type": "stream",
          "name": "stdout",
          "text": [
            "     type of sample       |   sample mean   |   sample size  \n",
            "---------------------------------------------------------------------------\n",
            "\n",
            "\n",
            "\n",
            "---------------------------------------------------------------------------\n",
            "     sample_male_Ht       |      68.7       |       10       \n",
            "---------------------------------------------------------------------------\n",
            "    sample_female_Ht      |      63.5       |       13       \n",
            "---------------------------------------------------------------------------\n",
            "\n",
            "\n",
            "\n",
            "---------------------------------------------------------------------------\n",
            "    sample_RedHat_Ht      |      64.9       |       11       \n",
            "---------------------------------------------------------------------------\n",
            "    sample_BlueHat_Ht     |      66.0       |       13       \n",
            "---------------------------------------------------------------------------\n"
          ]
        }
      ]
    },
    {
      "cell_type": "markdown",
      "source": [
        "#Two-Sample T_Test in Python"
      ],
      "metadata": {
        "id": "_neXYfEzG1Tv"
      }
    },
    {
      "cell_type": "code",
      "source": [
        "\"\"\"\n",
        "  #T_test for two \"Independent Samples\"\n",
        "\n",
        "  From scipy.stats, use the ttest_ind() function\n",
        "  Ho: mu_1 = mu_2 (population means - from which samples are drawn - are similar)\n",
        "  Ha:\n",
        "      (a) mu_1 != mu_2 (if alternative = 'two-sided')\n",
        "      (b) mu_1 < mu_2 (if alternative = 'less')\n",
        "      (c) mu_1 > mu_2 (if alternative = 'greater')\n",
        "\n",
        "  Inputs to the function:\n",
        "    ttest_ind(a = sample_1, b = sample_2, alternative = 'less' / 'greater' / 'two-sided')\n",
        "\n",
        "        Note:\n",
        "          -> In the inputs, pass the full sample of data points as a list or array, not just the sample mean\n",
        "          -> Default value of alternative = 'two-sided'\n",
        "\n",
        "  Output of the function:\n",
        "    A tuple containing (t_stat, p_value, degrees_of_freedom)\n",
        "\"\"\"\n",
        "\n",
        "from scipy import stats\n",
        "#stats.ttest_ind(a = sample_1, b = sample_2, alternative = 'greater' / 'less' / 'two-sided')"
      ],
      "metadata": {
        "id": "xnHUPMP8HY71"
      },
      "execution_count": null,
      "outputs": []
    },
    {
      "cell_type": "code",
      "source": [
        "#Quiz 1\n",
        "\n",
        "\n",
        "\"\"\"\n",
        "Determine whether there is a statistically significant difference in\n",
        "the average heights of plants grown with fertilizer X and fertilizer Y.\n",
        "\n",
        "Group A (Fertilizer X):\n",
        "Heights = [162, 164, 168, 170, 174, 176, 180, 182, 186, 188, 192, 194, 198, 200, 204, 206, 210, 212, 216, 218, 222, 224, 228, 230, 234, 236, 240, 242, 246, 248, 252, 254, 258, 260, 264, 266, 270]\n",
        "\n",
        "Group B (Fertilizer Y):\n",
        "Heights = [158, 162, 166, 170, 174, 178, 182, 186, 190, 194, 198, 202, 206, 210, 214, 218, 222, 226, 230, 234, 238, 242, 246, 250, 254, 258, 262, 266, 270, 274, 278, 282, 286, 290, 294, 298, 302]\n",
        "\n",
        "\n",
        "Significance Level (α): 0.1\n",
        "\n",
        "\"\"\"\n",
        "\n",
        "sample_group_A = [162, 164, 168, 170, 174, 176, 180, 182, 186, 188, 192, 194, 198, 200, 204, 206, 210, 212, 216, 218, 222, 224, 228, 230, 234, 236, 240, 242, 246, 248, 252, 254, 258, 260, 264, 266, 270]\n",
        "\n",
        "sample_group_B = [158, 162, 166, 170, 174, 178, 182, 186, 190, 194, 198, 202, 206, 210, 214, 218, 222, 226, 230, 234, 238, 242, 246, 250, 254, 258, 262, 266, 270, 274, 278, 282, 286, 290, 294, 298, 302]\n",
        "\n",
        "\n",
        "\n",
        "#Ho: mu_A = mu_B\n",
        "#Ha: muA != mu_B ('two-sided' test)\n",
        "\n",
        "print(f\"sample_group_A.mean = {np.mean(sample_group_A) : .1f}\")\n",
        "print(f\"sample_group_B.mean = {np.mean(sample_group_B) : .1f}\")\n",
        "\n",
        "from scipy import stats\n",
        "stats.ttest_ind(a = sample_group_A, b = sample_group_B, alternative = 'two-sided')\n",
        "\n",
        "\n",
        "#Alternate Hypothesis / Alternative Hypothesis\n"
      ],
      "metadata": {
        "colab": {
          "base_uri": "https://localhost:8080/"
        },
        "id": "PtN8hIsmJE5_",
        "outputId": "97225706-2ab9-425b-f23b-e520f515bdb5",
        "collapsed": true
      },
      "execution_count": null,
      "outputs": [
        {
          "output_type": "stream",
          "name": "stdout",
          "text": [
            "sample_group_A.mean =  215.5\n",
            "sample_group_B.mean =  230.0\n"
          ]
        },
        {
          "output_type": "execute_result",
          "data": {
            "text/plain": [
              "TtestResult(statistic=-1.6280691715301856, pvalue=0.10787862863608348, df=72.0)"
            ]
          },
          "metadata": {},
          "execution_count": 10
        }
      ]
    },
    {
      "cell_type": "code",
      "source": [
        "\"\"\"\n",
        "If alpha = 10%\n",
        "\n",
        "p_value = 10.78%\n",
        "\n",
        "\n",
        "In this case, p > alpha: Fail to Reject Ho\n",
        "\"\"\"\n",
        "\n",
        "\n",
        "#Break: Resuming at 8:19 AM IST"
      ],
      "metadata": {
        "colab": {
          "base_uri": "https://localhost:8080/"
        },
        "id": "BViKLsAa8P8H",
        "outputId": "5f5f289c-cd5a-4bfd-ed3e-3d01c0986c30"
      },
      "execution_count": null,
      "outputs": [
        {
          "output_type": "execute_result",
          "data": {
            "text/plain": [
              "'\\nIf alpha = 10%\\n\\np_value = 10.78%\\n\\n\\nIn this case, p > alpha: Fail to Reject Ho \\n'"
            ],
            "application/vnd.google.colaboratory.intrinsic+json": {
              "type": "string"
            }
          },
          "metadata": {},
          "execution_count": 11
        }
      ]
    },
    {
      "cell_type": "markdown",
      "source": [
        "#----------------------------------   Part 2: \"Z proportion Test\"  -----------------------------------------------------"
      ],
      "metadata": {
        "id": "fi0ByeDiHO1d"
      }
    },
    {
      "cell_type": "markdown",
      "source": [
        "#Cars in Poland data: Proporition of European Brand cars in Population"
      ],
      "metadata": {
        "id": "2Sgi--x24LSl"
      }
    },
    {
      "cell_type": "code",
      "source": [
        "#importing the Car_Prices_Poland dataset\n",
        "\n",
        "!gdown 1TWXu3VB09tf9_kzdDORedjY1N0dMjp8U\n",
        "\n",
        "Car_Prices_Poland = pd.read_csv(\"Car_Prices_Poland_Kaggle.csv\")\n",
        "\n",
        "print(f\"\\n\\nSuccess! Data loaded into dataframe Car_Prices_Poland:\\n\\n {Car_Prices_Poland.head()}\")\n",
        "\n",
        "print(f\"\\n\\nShape of Car_Prices_Poland dataframe = {Car_Prices_Poland.shape}\")"
      ],
      "metadata": {
        "colab": {
          "base_uri": "https://localhost:8080/"
        },
        "id": "LsifTsBy4LyD",
        "outputId": "1cc2a5c5-852b-43f3-d889-e6851c8a092d"
      },
      "execution_count": null,
      "outputs": [
        {
          "output_type": "stream",
          "name": "stdout",
          "text": [
            "Downloading...\n",
            "From: https://drive.google.com/uc?id=1TWXu3VB09tf9_kzdDORedjY1N0dMjp8U\n",
            "To: /content/Car_Prices_Poland_Kaggle.csv\n",
            "100% 9.89M/9.89M [00:00<00:00, 63.4MB/s]\n",
            "\n",
            "\n",
            "Success! Data loaded into dataframe Car_Prices_Poland:\n",
            "\n",
            "    Unnamed: 0  mark  model generation_name  year  mileage  vol_engine    fuel  \\\n",
            "0           0  opel  combo      gen-d-2011  2015   139568        1248  Diesel   \n",
            "1           1  opel  combo      gen-d-2011  2018    31991        1499  Diesel   \n",
            "2           2  opel  combo      gen-d-2011  2015   278437        1598  Diesel   \n",
            "3           3  opel  combo      gen-d-2011  2016    47600        1248  Diesel   \n",
            "4           4  opel  combo      gen-d-2011  2014   103000        1400     CNG   \n",
            "\n",
            "              city     province  price  \n",
            "0            Janki  Mazowieckie  35900  \n",
            "1         Katowice      Śląskie  78501  \n",
            "2            Brzeg     Opolskie  27000  \n",
            "3        Korfantów     Opolskie  30800  \n",
            "4  Tarnowskie Góry      Śląskie  35900  \n",
            "\n",
            "\n",
            "Shape of Car_Prices_Poland dataframe = (117927, 11)\n"
          ]
        }
      ]
    },
    {
      "cell_type": "code",
      "source": [
        "Car_Prices_Poland['mark'].unique()"
      ],
      "metadata": {
        "colab": {
          "base_uri": "https://localhost:8080/"
        },
        "id": "BmrDc2lFBI3S",
        "outputId": "74a5f439-05e2-4745-f8a7-3a493cea0cb6"
      },
      "execution_count": null,
      "outputs": [
        {
          "output_type": "execute_result",
          "data": {
            "text/plain": [
              "array(['opel', 'audi', 'bmw', 'volkswagen', 'ford', 'mercedes-benz',\n",
              "       'renault', 'toyota', 'skoda', 'alfa-romeo', 'chevrolet', 'citroen',\n",
              "       'fiat', 'honda', 'hyundai', 'kia', 'mazda', 'mini', 'mitsubishi',\n",
              "       'nissan', 'peugeot', 'seat', 'volvo'], dtype=object)"
            ]
          },
          "metadata": {},
          "execution_count": 13
        }
      ]
    },
    {
      "cell_type": "code",
      "source": [
        "#Adding a Boolean column to mark European Brands\n",
        "\n",
        "european_brands_list = ['opel', 'audi', 'bmw', 'volkswagen', 'mercedes-benz',\n",
        "                        'renault', 'skoda', 'alfa-romeo', 'citroen',\n",
        "                        'fiat', 'mini', 'peugeot', 'seat', 'volvo']\n",
        "\n",
        "Car_Prices_Poland['European_Brand?'] = Car_Prices_Poland['mark'].isin(european_brands_list)\n",
        "\n",
        "\n",
        "print(Car_Prices_Poland.head())"
      ],
      "metadata": {
        "colab": {
          "base_uri": "https://localhost:8080/"
        },
        "id": "ADeEoIE54R_f",
        "outputId": "a3d9c67b-3476-43bb-874c-9bcebaab8dc4"
      },
      "execution_count": null,
      "outputs": [
        {
          "output_type": "stream",
          "name": "stdout",
          "text": [
            "   Unnamed: 0  mark  model generation_name  year  mileage  vol_engine    fuel  \\\n",
            "0           0  opel  combo      gen-d-2011  2015   139568        1248  Diesel   \n",
            "1           1  opel  combo      gen-d-2011  2018    31991        1499  Diesel   \n",
            "2           2  opel  combo      gen-d-2011  2015   278437        1598  Diesel   \n",
            "3           3  opel  combo      gen-d-2011  2016    47600        1248  Diesel   \n",
            "4           4  opel  combo      gen-d-2011  2014   103000        1400     CNG   \n",
            "\n",
            "              city     province  price  European_Brand?  \n",
            "0            Janki  Mazowieckie  35900             True  \n",
            "1         Katowice      Śląskie  78501             True  \n",
            "2            Brzeg     Opolskie  27000             True  \n",
            "3        Korfantów     Opolskie  30800             True  \n",
            "4  Tarnowskie Góry      Śląskie  35900             True  \n"
          ]
        }
      ]
    },
    {
      "cell_type": "code",
      "source": [
        "#Display proportion of European Brands in Population\n",
        "\n",
        "print(f\"Total Cars in Population = {Car_Prices_Poland.shape[0] : ,}\\n\")\n",
        "print(f\"Total European Brand Cars in Population = {Car_Prices_Poland['European_Brand?'].sum() : ,}\\n\")\n",
        "print(f\"Proportion of European Branded Cars in Population = {Car_Prices_Poland['European_Brand?'].sum() / Car_Prices_Poland.shape[0] : .3f}\\n\")"
      ],
      "metadata": {
        "colab": {
          "base_uri": "https://localhost:8080/"
        },
        "id": "KQIiA_ON7Xkg",
        "outputId": "b92a73ce-cbe5-48ad-b60d-e7626765e9ce"
      },
      "execution_count": null,
      "outputs": [
        {
          "output_type": "stream",
          "name": "stdout",
          "text": [
            "Total Cars in Population =  117,927\n",
            "\n",
            "Total European Brand Cars in Population =  85,543\n",
            "\n",
            "Proportion of European Branded Cars in Population =  0.725\n",
            "\n"
          ]
        }
      ]
    },
    {
      "cell_type": "markdown",
      "source": [
        "#Sampling cars to predict \"proportion of European brand cars\" population"
      ],
      "metadata": {
        "id": "2RgX9x_757bY"
      }
    },
    {
      "cell_type": "code",
      "source": [
        "#Sample size (n)\n",
        "n = 25\n",
        "\n",
        "#Number of random samples to be picked (each of size 'n')\n",
        "num_of_samples = 8\n",
        "\n",
        "samples = np.random.choice(Car_Prices_Poland['European_Brand?'], size=(num_of_samples, n))\n",
        "sample_proportions = samples.sum(axis=1)/n\n",
        "\n",
        "\n",
        "print(f\"Proportion of European Cars in each of the {num_of_samples} samples of sample size = {n}:\\n\\n\")\n",
        "\n",
        "print(f\"{'Sample_index' : ^20} | {'Proportion_Euro_in_Sample' : ^30} | {f'First {min(10,n)}/{n} Boolean values for European_Brand? in sample' : ^65}\")\n",
        "print(\"-\"*120)\n",
        "\n",
        "for i, sample_i in enumerate(samples):\n",
        "  print(f\"{i : ^20d} | {sample_i.sum()/sample_i.size: ^30.3f} | {np.array(sample_i)[:10]}\")\n",
        "  print(\"-\"*120)\n"
      ],
      "metadata": {
        "colab": {
          "base_uri": "https://localhost:8080/"
        },
        "id": "D1AwziRp58T5",
        "outputId": "c20e39d9-f499-426f-a5d5-eee0fd6b3645"
      },
      "execution_count": null,
      "outputs": [
        {
          "output_type": "stream",
          "name": "stdout",
          "text": [
            "Proportion of European Cars in each of the 8 samples of sample size = 25:\n",
            "\n",
            "\n",
            "    Sample_index     |   Proportion_Euro_in_Sample    |     First 10/25 Boolean values for European_Brand? in sample     \n",
            "------------------------------------------------------------------------------------------------------------------------\n",
            "         0           |             0.640              | [ True  True False False False False  True  True False False]\n",
            "------------------------------------------------------------------------------------------------------------------------\n",
            "         1           |             0.680              | [False  True  True False  True False False  True False  True]\n",
            "------------------------------------------------------------------------------------------------------------------------\n",
            "         2           |             0.800              | [ True False  True  True  True False  True False  True  True]\n",
            "------------------------------------------------------------------------------------------------------------------------\n",
            "         3           |             0.760              | [ True  True  True  True  True  True False  True  True  True]\n",
            "------------------------------------------------------------------------------------------------------------------------\n",
            "         4           |             0.880              | [ True  True  True  True  True  True  True False  True  True]\n",
            "------------------------------------------------------------------------------------------------------------------------\n",
            "         5           |             0.840              | [ True  True  True  True  True  True False  True  True  True]\n",
            "------------------------------------------------------------------------------------------------------------------------\n",
            "         6           |             0.680              | [ True False  True  True False  True  True  True  True  True]\n",
            "------------------------------------------------------------------------------------------------------------------------\n",
            "         7           |             0.800              | [ True False  True  True False  True  True  True  True False]\n",
            "------------------------------------------------------------------------------------------------------------------------\n"
          ]
        }
      ]
    },
    {
      "cell_type": "markdown",
      "source": [
        "CLT: Plotting Sample_Proportions of many, many such samples"
      ],
      "metadata": {
        "id": "XXK9NPS0-aO1"
      }
    },
    {
      "cell_type": "code",
      "source": [
        "#Sample size (n)\n",
        "n = 45\n",
        "\n",
        "#Number of random samples to be picked (each of size 'n')\n",
        "num_of_samples = 2000000\n",
        "\n",
        "samples = np.random.choice(Car_Prices_Poland['European_Brand?'], size=(num_of_samples, n))\n",
        "sample_proportions = samples.sum(axis=1) / n\n",
        "\n",
        "\n",
        "\n",
        "plt.figure(figsize=(12,4))\n",
        "plt.title(f\"Distribution of {num_of_samples:,} 'sample_proportions'; each of sample_size = {n}\")\n",
        "sns.histplot(x=sample_proportions, stat='density', color=\"lightskyblue\") #stat= 'count' / 'density' / 'kde'\n",
        "plt.grid(axis='y')\n",
        "plt.axvline(sample_proportions.mean(), color=\"darkblue\", linewidth=2, linestyle='dashed', gapcolor=\"white\")\n",
        "plt.xlabel(\"X: Sample means --->\")\n",
        "plt.figtext(0.36, -0.08,f\"('mean' of all the sample_means = {sample_proportions.mean():.3f})\", color='darkblue')\n",
        "plt.show()\n"
      ],
      "metadata": {
        "colab": {
          "base_uri": "https://localhost:8080/",
          "height": 386
        },
        "id": "jpQ-deyF5OvO",
        "outputId": "d43232f5-a895-4eb1-b620-f8c6466aa4a1"
      },
      "execution_count": null,
      "outputs": [
        {
          "output_type": "display_data",
          "data": {
            "text/plain": [
              "<Figure size 1200x400 with 1 Axes>"
            ],
            "image/png": "[encoded data removed]"
          },
          "metadata": {}
        }
      ]
    },
    {
      "cell_type": "code",
      "source": [],
      "metadata": {
        "id": "EOcZ3ix2_VVK"
      },
      "execution_count": null,
      "outputs": []
    },
    {
      "cell_type": "markdown",
      "source": [
        "#Solving Questions on Z Proportion test"
      ],
      "metadata": {
        "id": "ORTekgCLKQF_"
      }
    },
    {
      "cell_type": "code",
      "source": [
        "\"\"\"\n",
        "\n",
        "from statsmodels.stats.proportion import proportions_ztest\n",
        "\n",
        "proportions_ztest(count = , nobs = , value= , alternative=’two-sided’)\n",
        "\n",
        "where the inputs to be given are:\n",
        "    (a) count: The number of successes in sample\n",
        "    (b) nobs: Total number of observation in sample\n",
        "    (c) value: The hypothesized population proportion (on a scale of 0 to 1)\n",
        "    (d) alternative: The alternative hypothesis (‘smaller’, ‘larger’, default =‘two-sided’)\n",
        "\n",
        "\n",
        "Output of the function:\n",
        "A tuple containing (z_stat, p_value)\n",
        "\n",
        "\"\"\"\n",
        "\n",
        "from statsmodels.stats.proportion import proportions_ztest\n",
        "#proportions_ztest(count = , nobs = , value= , alternative= 'smaller' / 'larger' /'two-sided')"
      ],
      "metadata": {
        "id": "4tIsxjEFKZGz"
      },
      "execution_count": null,
      "outputs": []
    },
    {
      "cell_type": "code",
      "source": [
        "#Question 1\n",
        "\n",
        "\"\"\"\n",
        "A fast-food restaurant claims that 80% of their customers prefer their new burger over the old one.\n",
        "In a random sample of 100 customers, 85 said they preferred the new burger.\n",
        "What is the null and alternative hypothesis?\n",
        "\"\"\"\n",
        "\n",
        "\n",
        "#Ho: pop_proportion = 0.80\n",
        "#Ha: pop_proportion != 0.80 ('two-sided')\n",
        "pop_proportion = 0.80\n",
        "\n",
        "#Sample:\n",
        "n = 100\n",
        "no_of_successes = 85\n",
        "\n",
        "proportions_ztest(count = 85 , nobs = 100, value= 0.8, alternative= 'two-sided')\n",
        "\n",
        "\n",
        "#In the output: The first value is a z_score, and the second value is a P-value\n",
        "\n",
        "#If alpha = 5%\n",
        "\n",
        "#THEN p (16.14%) > alpha -> Fail to Reject Ho"
      ],
      "metadata": {
        "colab": {
          "base_uri": "https://localhost:8080/"
        },
        "id": "RP0IfcHXLIJx",
        "outputId": "5dac209c-8597-4a4a-a08e-41eb52cdf62c"
      },
      "execution_count": null,
      "outputs": [
        {
          "output_type": "execute_result",
          "data": {
            "text/plain": [
              "(1.4002800840280079, 0.16142946236708378)"
            ]
          },
          "metadata": {},
          "execution_count": 24
        }
      ]
    },
    {
      "cell_type": "code",
      "source": [
        "#Question 2\n",
        "\n",
        "\"\"\"\n",
        "A researcher is studying the satisfaction level of customers\n",
        "after implementing a new customer service system.\n",
        "\n",
        "They collected survey responses from 250 customers\n",
        "and found that 65 of them were dissatisfied with the new system.\n",
        "\n",
        "\n",
        "The researcher wants to test the null hypothesis that\n",
        "no more than 30% of customers are dissatisfied with the new system.\n",
        "\n",
        "Use the p-value technique to test the claim with a significance level of α = 0.05.\n",
        "\"\"\"\n",
        "\n",
        "\n",
        "#Ho: pop_proportion <= 0.30\n",
        "#Ha: pop_proportion > 0.30 (RIGHT TAILED test: alternative= 'larger')\n",
        "\n",
        "#sample\n",
        "nobs = 250\n",
        "count_successes = 65 #not_satisfied\n",
        "\n",
        "\n",
        "from statsmodels.stats.proportion import proportions_ztest\n",
        "z_score, p_val = proportions_ztest(count = 65 , nobs = 250, value= 0.30, alternative = 'larger')\n",
        "\n",
        "\n",
        "print(f\"p_value = {p_val}\")\n",
        "\n",
        "#Fail to REJECT Ho"
      ],
      "metadata": {
        "colab": {
          "base_uri": "https://localhost:8080/"
        },
        "id": "vgasyI2FLdD_",
        "outputId": "80677128-48d2-426a-fc0a-2df3855763c0"
      },
      "execution_count": null,
      "outputs": [
        {
          "output_type": "stream",
          "name": "stdout",
          "text": [
            "p_value = 0.925331109714639\n"
          ]
        }
      ]
    },
    {
      "cell_type": "markdown",
      "source": [
        "Two Sample Z Proportion Test"
      ],
      "metadata": {
        "id": "SFh0f-06pJnK"
      }
    },
    {
      "cell_type": "code",
      "source": [
        "#NOTE on two sample z_proportion test\n",
        "\n",
        "\"\"\"\n",
        "You can use the SAME function proportions_ztest to \"Z Proportion Test\" for two samples\n",
        "\n",
        "In this case:\n",
        "Ho: proportion_population_A (p_A) = proportion_population_B (p_B)\n",
        "Ha:\n",
        "  (a) p_A != p_B (alternative = 'two-sided')\n",
        "  (b) p_A < p_B (alternative = 'smaller')\n",
        "  (c) p_A > p_B (alternative = 'two-sided')\n",
        "\n",
        "\n",
        "#import the function from the library\n",
        "from statsmodels.stats.proportion import proportions_ztest\n",
        "\n",
        "If sample_A and sample_B are lists/arrays of your two samples,\n",
        "then pass the two samples directly as follows...\n",
        "\n",
        "proportions_ztest(sample_A, sample_B, alternative= 'smaller' / 'larger' /'two-sided')\n",
        "\n",
        "\n",
        "Outputs of the function:\n",
        "A tuple containing (z_stat, p_value)\n",
        "\n",
        "\"\"\"\n",
        "pass"
      ],
      "metadata": {
        "id": "v2mOya9LMtcs"
      },
      "execution_count": null,
      "outputs": []
    },
    {
      "cell_type": "code",
      "source": [],
      "metadata": {
        "id": "C6lgKepYdcce"
      },
      "execution_count": null,
      "outputs": []
    }
  ]
}