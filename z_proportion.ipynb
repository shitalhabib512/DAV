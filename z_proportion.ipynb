{
  "nbformat": 4,
  "nbformat_minor": 0,
  "metadata": {
    "colab": {
      "provenance": [],
      "authorship_tag": "ABX9TyO6wINQPsbzRtZvEiT8n7tx",
      "include_colab_link": true
    },
    "kernelspec": {
      "name": "python3",
      "display_name": "Python 3"
    },
    "language_info": {
      "name": "python"
    }
  },
  "cells": [
    {
      "cell_type": "markdown",
      "metadata": {
        "id": "view-in-github",
        "colab_type": "text"
      },
      "source": [
        "<a href=\"https://colab.research.google.com/github/shitalhabib512/DAV/blob/main/z_proportion.ipynb\" target=\"_parent\"><img src=\"https://colab.research.google.com/assets/colab-badge.svg\" alt=\"Open In Colab\"/></a>"
      ]
    },
    {
      "cell_type": "code",
      "execution_count": 46,
      "metadata": {
        "id": "2Uutl9ofob2Y"
      },
      "outputs": [],
      "source": [
        "import numpy as np\n",
        "import pandas as pd\n",
        "from scipy import stats\n",
        "from scipy.stats import norm\n",
        "from statsmodels.stats.proportion import proportions_ztest\n",
        "from statsmodels.stats import weightstats as stests"
      ]
    },
    {
      "cell_type": "code",
      "source": [],
      "metadata": {
        "id": "dVGsuUgvB4_3"
      },
      "execution_count": null,
      "outputs": []
    },
    {
      "cell_type": "code",
      "source": [
        "def two_sample_z_test(sample_mean_1, sample_mean_2, sample_sd_1, sample_sd_2, n1, n2):\n",
        "    denominator = np.sqrt((sample_sd_1 ** 2 / n1) + (sample_sd_2 ** 2 / n2))\n",
        "    z_score = (sample_mean_1 - sample_mean_2) / denominator\n",
        "\n",
        "    return z_score"
      ],
      "metadata": {
        "id": "sK3OOHlIQ-C3"
      },
      "execution_count": null,
      "outputs": []
    },
    {
      "cell_type": "code",
      "source": [
        "sample_mean_X = 30\n",
        "sample_mean_y = 32\n",
        "sample_sd_X = 3\n",
        "sample_sd_Y = 2.5\n",
        "sample_size_X = 50\n",
        "sample_size_Y = 60\n",
        "z_score = two_sample_z_test(\n",
        "    sample_mean_X,\n",
        "    sample_mean_y,\n",
        "    sample_sd_X,\n",
        "    sample_sd_Y,\n",
        "    sample_size_X,\n",
        "    sample_size_Y\n",
        ")\n",
        "z_score"
      ],
      "metadata": {
        "colab": {
          "base_uri": "https://localhost:8080/"
        },
        "id": "z9in0hRvRnmN",
        "outputId": "f2383085-7ab7-41af-c67c-accc6bcc2b75"
      },
      "execution_count": null,
      "outputs": [
        {
          "output_type": "execute_result",
          "data": {
            "text/plain": [
              "-3.751832396884334"
            ]
          },
          "metadata": {},
          "execution_count": 3
        }
      ]
    },
    {
      "cell_type": "code",
      "source": [
        "p_val=norm.cdf(z_score) *2\n",
        "p_val"
      ],
      "metadata": {
        "colab": {
          "base_uri": "https://localhost:8080/"
        },
        "id": "wiCk6ItQRwce",
        "outputId": "38c5fcf8-c75e-47d1-9cd2-e2cf16214555"
      },
      "execution_count": null,
      "outputs": [
        {
          "output_type": "execute_result",
          "data": {
            "text/plain": [
              "0.00017554681014571685"
            ]
          },
          "metadata": {},
          "execution_count": 7
        }
      ]
    },
    {
      "cell_type": "code",
      "source": [],
      "metadata": {
        "id": "Mhvw6kU3R6CO"
      },
      "execution_count": null,
      "outputs": []
    },
    {
      "cell_type": "code",
      "source": [],
      "metadata": {
        "id": "hQ68Xo11St8F"
      },
      "execution_count": null,
      "outputs": []
    },
    {
      "cell_type": "code",
      "source": [
        "# Quiz 1\n",
        "\n",
        "heights_a = [14, 16, 13, 17, 12, 18]\n",
        "heights_b = [18, 19, 16, 17, 15, 20]\n",
        "\n",
        "alpha = 0.1\n",
        "\n",
        "z_stat, p_val = stests.ztest(\n",
        "    heights_a,\n",
        "    heights_b,\n",
        "    value = 0,\n",
        "    alternative = \"two-sided\"\n",
        ")\n",
        "z_stat\n",
        "p_val"
      ],
      "metadata": {
        "colab": {
          "base_uri": "https://localhost:8080/"
        },
        "id": "POfvFbgYSt_u",
        "outputId": "35fcdebd-3d0f-4631-a436-7ec4dbe07239"
      },
      "execution_count": null,
      "outputs": [
        {
          "output_type": "execute_result",
          "data": {
            "text/plain": [
              "0.042357062026854894"
            ]
          },
          "metadata": {},
          "execution_count": 8
        }
      ]
    },
    {
      "cell_type": "code",
      "source": [],
      "metadata": {
        "id": "rGqxgbQYTixK"
      },
      "execution_count": null,
      "outputs": []
    },
    {
      "cell_type": "code",
      "source": [],
      "metadata": {
        "id": "QvbnWSE5Ti0-"
      },
      "execution_count": null,
      "outputs": []
    },
    {
      "cell_type": "code",
      "source": [
        "satisfied_customers = 115\n",
        "total_customers = 150\n",
        "\n",
        "target_satisfaction = 0.7\n",
        "\n",
        "population_proportion = target_satisfaction\n",
        "p = population_proportion\n",
        "\n",
        "sample_proportion = satisfied_customers / total_customers\n",
        "p_hat = sample_proportion\n",
        "\n",
        "n = total_customers\n",
        "\n",
        "Z = (p_hat - p) / np.sqrt((p * (1 - p)) / n)\n",
        "\n",
        "p_val1 = 2 * (1 - stats.norm.cdf(np.abs(Z)))\n",
        "p_val2=norm.cdf(Z) * 2\n",
        "\n",
        "print(f\"p_val1:{p_val1}, p_val2:{p_val2}\")"
      ],
      "metadata": {
        "colab": {
          "base_uri": "https://localhost:8080/"
        },
        "id": "n1GN5UUOTjEP",
        "outputId": "1deabce8-1301-40c2-aad1-e9d4086b90d6"
      },
      "execution_count": null,
      "outputs": [
        {
          "output_type": "stream",
          "name": "stdout",
          "text": [
            "p_val1:0.07479137758694376, p_val2:1.9252086224130562\n"
          ]
        }
      ]
    },
    {
      "cell_type": "code",
      "source": [
        "'''The Quidditch teams at Hogwarts conducted tryouts for two positions: Chasers and Seekers.\n",
        "\n",
        "In Group Chasers, out of 90 students who tried out, 57 were selected. In Group Seekers, out of 120 students who tried out, 98 were selected.\n",
        "\n",
        "Is there a significant difference in the proportion of students selected for Chasers and Seekers positions?\n",
        "\n",
        "Conduct a test at 90% confidence level.'''"
      ],
      "metadata": {
        "id": "R6y1xauno8y2"
      },
      "execution_count": null,
      "outputs": []
    },
    {
      "cell_type": "code",
      "source": [
        "p1=57\n",
        "n1=90\n",
        "#p1=c_count/n1\n",
        "n1=90\n",
        "p2=98\n",
        "n2=120\n",
        "aplha=0.1\n",
        "p=(p1+p2)\n",
        "denom=np.sqrt(p*(1-p))"
      ],
      "metadata": {
        "id": "Mui7E1rvpD2z"
      },
      "execution_count": null,
      "outputs": []
    },
    {
      "cell_type": "code",
      "source": [],
      "metadata": {
        "id": "dGrNWmn4onge"
      },
      "execution_count": null,
      "outputs": []
    },
    {
      "cell_type": "code",
      "source": [],
      "metadata": {
        "id": "eu0gZbUiooP8"
      },
      "execution_count": null,
      "outputs": []
    },
    {
      "cell_type": "code",
      "source": [
        "'''The average hourly wage of a sample of 150 workers in plant 'A' was Rs.2·87 with a standard deviation of Rs. 1·08.\n",
        "\n",
        "The average wage of a sample of 200 workers in plant 'B' was Rs. 2·56 with a standard deviation of Rs. 1·28.\n",
        "\n",
        "(i) Calculate the Z-score for this scenario.\n",
        "\n",
        "(ii) Can an applicant safely assume that the hourly wages paid by plant 'A' are higher than those paid by plant 'B' at a 1% significance level?'''"
      ],
      "metadata": {
        "id": "PzXi1XpbooTu"
      },
      "execution_count": null,
      "outputs": []
    },
    {
      "cell_type": "code",
      "source": [
        "n1=150\n",
        "n2=200\n",
        "m1=2.87\n",
        "sd1=1.08\n",
        "m2=2.56\n",
        "sd2=1.28\n",
        "\n",
        "denom=np.sqrt(((sd1 **2)/n1) + ((sd2 **2)/n2))\n",
        "z_score=(m1-m2)/denom\n"
      ],
      "metadata": {
        "id": "iihdWtPXosH8"
      },
      "execution_count": null,
      "outputs": []
    },
    {
      "cell_type": "code",
      "source": [
        "z_score"
      ],
      "metadata": {
        "colab": {
          "base_uri": "https://localhost:8080/"
        },
        "id": "JYP-gQ2HqFH7",
        "outputId": "f0a3b33a-23ba-426f-dcdf-5e5da0647043"
      },
      "execution_count": null,
      "outputs": [
        {
          "output_type": "execute_result",
          "data": {
            "text/plain": [
              "2.453219634102559"
            ]
          },
          "metadata": {},
          "execution_count": 6
        }
      ]
    },
    {
      "cell_type": "code",
      "source": [
        "p_val=1-norm.cdf(z_score)\n",
        "p_val"
      ],
      "metadata": {
        "colab": {
          "base_uri": "https://localhost:8080/"
        },
        "id": "l1RP2GenrsOv",
        "outputId": "73f8edc6-d0d0-4fb6-f922-1ec2bb1d53de"
      },
      "execution_count": null,
      "outputs": [
        {
          "output_type": "execute_result",
          "data": {
            "text/plain": [
              "0.007079193063952549"
            ]
          },
          "metadata": {},
          "execution_count": 9
        }
      ]
    },
    {
      "cell_type": "code",
      "source": [
        "norm.ppf(0.99)"
      ],
      "metadata": {
        "colab": {
          "base_uri": "https://localhost:8080/"
        },
        "id": "5rVFBld0rBsS",
        "outputId": "adef98f9-0ef5-4293-fbe6-a1480ed0618a"
      },
      "execution_count": null,
      "outputs": [
        {
          "output_type": "execute_result",
          "data": {
            "text/plain": [
              "2.3263478740408408"
            ]
          },
          "metadata": {},
          "execution_count": 7
        }
      ]
    },
    {
      "cell_type": "code",
      "source": [],
      "metadata": {
        "id": "C3ruoAlGs7ex"
      },
      "execution_count": null,
      "outputs": []
    },
    {
      "cell_type": "code",
      "source": [],
      "metadata": {
        "id": "l5tdC12Ns8Mn"
      },
      "execution_count": null,
      "outputs": []
    },
    {
      "cell_type": "code",
      "source": [],
      "metadata": {
        "id": "zXDuUqUxs8QC"
      },
      "execution_count": null,
      "outputs": []
    },
    {
      "cell_type": "code",
      "source": [
        "'''The Head of Data Analyst Department is conducting a comparative analysis of the complexity of SQL queries written by two analysts, namely Analyst X and Analyst Y.\n",
        "\n",
        "He has gathered data on the number of lines of code for each SQL query.\n",
        "\n",
        "Analyst X's SQL lines of code: [15, 18, 20, 17, 16, 19, 22, 16, 18, 21, 23, 18, 17, 19, 20, 24, 25, 26, 27, 28, 19, 21, 22, 23, 24, 25, 26, 27, 28, 29, 30]\n",
        "Analyst Y's SQL lines of code: [14, 17, 19, 16, 15, 18, 21, 15, 17, 20, 22, 17, 16, 18, 19, 23, 24, 25, 26, 27, 18, 20, 21, 22, 23, 24, 25, 26, 27, 28, 29]\n",
        "The analyst hypothesizes that Analyst Y writes less complex code compared to Analyst X. To investigate this hypothesis, conduct an appropriate test with a 90% confidence interval.'''"
      ],
      "metadata": {
        "id": "R_E0UxUis8T5"
      },
      "execution_count": null,
      "outputs": []
    },
    {
      "cell_type": "code",
      "source": [
        "x_complexity= [15, 18, 20, 17, 16, 19, 22, 16, 18, 21, 23, 18, 17, 19, 20, 24, 25, 26, 27, 28, 19, 21, 22, 23, 24, 25, 26, 27, 28, 29, 30]\n",
        "y_complexity= [14, 17, 19, 16, 15, 18, 21, 15, 17, 20, 22, 17, 16, 18, 19, 23, 24, 25, 26, 27, 18, 20, 21, 22, 23, 24, 25, 26, 27, 28, 29]\n",
        "\n",
        "z_stat, p_val = stests.ztest(\n",
        "    x_complexity,\n",
        "    y_complexity,\n",
        "    value = 0,\n",
        "    alternative = \"larger\"\n",
        ")\n",
        "\n",
        "print(f\"z_stat:  {z_stat:4f} ,p_val : {p_val:4f} \")"
      ],
      "metadata": {
        "colab": {
          "base_uri": "https://localhost:8080/"
        },
        "id": "XIiyTkyTaYQw",
        "outputId": "2a2fe544-ab9b-4802-e871-c57ac993bc77"
      },
      "execution_count": null,
      "outputs": [
        {
          "output_type": "stream",
          "name": "stdout",
          "text": [
            "z_stat:  0.918678 ,p_val : 0.179132 \n"
          ]
        }
      ]
    },
    {
      "cell_type": "code",
      "source": [],
      "metadata": {
        "id": "t9_VfZctdpnJ"
      },
      "execution_count": null,
      "outputs": []
    },
    {
      "cell_type": "code",
      "source": [],
      "metadata": {
        "id": "S3DgwTb1dpqk"
      },
      "execution_count": null,
      "outputs": []
    },
    {
      "cell_type": "code",
      "source": [
        "'''Out of a sample of 1,000 people residing in Maharashtra, 540 are rice eaters, while the rest consume wheat primarily.\n",
        "\n",
        "Can we assume that rice and wheat are equally popular in this state at a 5% significance level?'''"
      ],
      "metadata": {
        "id": "Oqn0asqSdptw"
      },
      "execution_count": null,
      "outputs": []
    },
    {
      "cell_type": "code",
      "source": [
        "count=540\n",
        "nobs=1000\n",
        "value=0.5\n",
        "\n",
        "proportions_ztest(count = 540 , nobs = 1000, value= 0.5, alternative= 'two-sided')\n"
      ],
      "metadata": {
        "id": "meL2GKInd5fo",
        "colab": {
          "base_uri": "https://localhost:8080/"
        },
        "outputId": "e31e01cd-39a5-45d2-d7e6-71d23d8333c0"
      },
      "execution_count": 3,
      "outputs": [
        {
          "output_type": "execute_result",
          "data": {
            "text/plain": [
              "(2.537956625422939, 0.011150180283180655)"
            ]
          },
          "metadata": {},
          "execution_count": 3
        }
      ]
    },
    {
      "cell_type": "code",
      "source": [
        "'''The Quidditch teams at Hogwarts conducted tryouts for two positions: Chasers and Seekers.\n",
        "\n",
        "In Group Chasers, out of 90 students who tried out, 57 were selected. In Group Seekers, out of 120 students who tried out, 98 were selected.\n",
        "\n",
        "Is there a significant difference in the proportion of students selected for Chasers and Seekers positions?\n",
        "\n",
        "Conduct a test at 90% confidence level.'''"
      ],
      "metadata": {
        "id": "DDw05bch1bvF"
      },
      "execution_count": null,
      "outputs": []
    },
    {
      "cell_type": "code",
      "source": [
        "import statsmodels.api as sm\n",
        "import numpy as np\n",
        "\n",
        "conversions = np.array([57, 98])\n",
        "visits = np.array([90, 120])\n",
        "\n",
        "\n",
        "z_stat, p_val = sm.stats.proportions_ztest(conversions, visits, alternative = \"two-sided\")\n",
        "\n",
        "print(f\"z_stat:  {z_stat:4f} ,p_val : {p_val:4f} \")"
      ],
      "metadata": {
        "colab": {
          "base_uri": "https://localhost:8080/"
        },
        "id": "cG1Ltiau1dfU",
        "outputId": "61f15f00-3359-4c85-f08f-2a261b0ff92d"
      },
      "execution_count": 36,
      "outputs": [
        {
          "output_type": "stream",
          "name": "stdout",
          "text": [
            "z_stat:  -2.990307 ,p_val : 0.002787 \n"
          ]
        }
      ]
    },
    {
      "cell_type": "code",
      "source": [],
      "metadata": {
        "id": "eZY0Aaoi6uOa"
      },
      "execution_count": null,
      "outputs": []
    },
    {
      "cell_type": "code",
      "source": [],
      "metadata": {
        "id": "X1h4r1m06uRr"
      },
      "execution_count": null,
      "outputs": []
    },
    {
      "cell_type": "code",
      "source": [
        "'''A state senator cannot decide how to vote on an environmental protection bill.\n",
        "\n",
        "The senator decides to request a survey and if the proportion of registered voters supporting the bill exceeds 0.60, she will vote for it.\n",
        "\n",
        "A random sample of 750 voters is selected and 495 are found to support the bill.\n",
        "\n",
        "Conduct an appropriate test at a 90% confidence interval.'''"
      ],
      "metadata": {
        "id": "KooMXyqT6uVX"
      },
      "execution_count": null,
      "outputs": []
    },
    {
      "cell_type": "code",
      "source": [
        "nobs=750\n",
        "count=595\n",
        "value=0.60\n",
        "z_stat,p_val=proportions_ztest(count=495,nobs=750,value=0.60,alternative='larger')\n",
        "\n",
        "print(f\"z_stat:  {z_stat:4f} ,p_val : {p_val:7f} \")"
      ],
      "metadata": {
        "colab": {
          "base_uri": "https://localhost:8080/"
        },
        "id": "O2VH8K-06v_y",
        "outputId": "039d02a5-6e70-46f5-a530-62d859938358"
      },
      "execution_count": 26,
      "outputs": [
        {
          "output_type": "stream",
          "name": "stdout",
          "text": [
            "z_stat:  3.468730 ,p_val : 0.000261 \n"
          ]
        }
      ]
    },
    {
      "cell_type": "code",
      "source": [],
      "metadata": {
        "id": "oqxmNPHb9Ox6"
      },
      "execution_count": null,
      "outputs": []
    },
    {
      "cell_type": "code",
      "source": [
        "Based on the given problem, we define our hypothesis as:\n",
        "\n",
        "Null Hypothesis: The proportion of registered voters supporting the bill is less than or equal to 0.60 (p≤0.60)\n",
        "Alternative Hypothesis: The proportion of registered voters supporting the bill is greater than 0.60(p>0.60)\n",
        "Hence we would need to perform a Right Tailed Z Proportion Test.\n",
        "\n",
        "We can solve this problem using the following code:\n",
        "Code:\n",
        "\n",
        "import scipy.stats as stats\n",
        "import math\n",
        "\n",
        "\n",
        "# Given data\n",
        "sample_size = 750\n",
        "observed_support = 495\n",
        "hypothesized_proportion = 0.60\n",
        "confidence_level = 0.90\n",
        "\n",
        "\n",
        "# Calculate the sample proportion\n",
        "sample_proportion = observed_support / sample_size\n",
        "\n",
        "\n",
        "# Calculate the standard error\n",
        "standard_error = math.sqrt((hypothesized_proportion * (1 - hypothesized_proportion)) / sample_size)\n",
        "\n",
        "\n",
        "# Calculate the Z-score\n",
        "z_stat = (sample_proportion - hypothesized_proportion) / standard_error\n",
        "\n",
        "\n",
        "# Calculate the p-value by conducting Right Tailed Test\n",
        "p_value = 1 - stats.norm.cdf(z_stat)\n",
        "\n",
        "\n",
        "print(\"Z-statistic:\", z_stat)\n",
        "print(\"P-value:\", p_value)\n",
        "\n",
        "\n",
        "alpha = 1 - confidence_level\n",
        "if p_value < alpha:\n",
        " print(\"Reject the null hypothesis. There is evidence to suggest that the proportion of registered voters supporting the bill is greater than 0.60.\")\n",
        "else:\n",
        " print(\"Fail to reject the null hypothesis. There is no evidence to suggest that the proportion of registered voters supporting the bill is greater than 0.60.\")"
      ],
      "metadata": {
        "colab": {
          "base_uri": "https://localhost:8080/",
          "height": 106
        },
        "id": "4R3j45xM9O6z",
        "outputId": "6bb6706c-bae2-47e7-b1f4-20eb1966e437"
      },
      "execution_count": 27,
      "outputs": [
        {
          "output_type": "error",
          "ename": "SyntaxError",
          "evalue": "invalid character '≤' (U+2264) (<ipython-input-27-dbd8aee26cb2>, line 3)",
          "traceback": [
            "\u001b[0;36m  File \u001b[0;32m\"<ipython-input-27-dbd8aee26cb2>\"\u001b[0;36m, line \u001b[0;32m3\u001b[0m\n\u001b[0;31m    Null Hypothesis: The proportion of registered voters supporting the bill is less than or equal to 0.60 (p≤0.60)\u001b[0m\n\u001b[0m                                                                                                             ^\u001b[0m\n\u001b[0;31mSyntaxError\u001b[0m\u001b[0;31m:\u001b[0m invalid character '≤' (U+2264)\n"
          ]
        }
      ]
    },
    {
      "cell_type": "code",
      "source": [],
      "metadata": {
        "id": "sAcb1S4OB6f-"
      },
      "execution_count": null,
      "outputs": []
    },
    {
      "cell_type": "code",
      "source": [
        "'''As a product manager, you want to evaluate the user satisfaction for two different seasons of Naruto Shippuden (Season 1 and Season 2).\n",
        "\n",
        "You collected feedback from 250 viewers who watched Season 1 of Naruto Shippuden, and 120 expressed satisfaction. Similarly, for Season 2, you gathered data from 300 viewers, and 150 of them expressed satisfaction.\n",
        "\n",
        "Conduct an appropriate test at a 95% confidence interval to determine if there's a higher user satisfaction for Season 2 than for Season 1.'''"
      ],
      "metadata": {
        "id": "SJUZAxwxB7J5"
      },
      "execution_count": null,
      "outputs": []
    },
    {
      "cell_type": "code",
      "source": [
        "\n",
        "conversions = np.array([120, 150])\n",
        "visits = np.array([250,300])\n",
        "\n",
        "\n",
        "z_stat, p_val = sm.stats.proportions_ztest(conversions, visits, alternative = \"smaller\")\n",
        "\n",
        "print(f\"z_stat:  {z_stat:4f} ,p_val : {p_val:4f} \")\n"
      ],
      "metadata": {
        "colab": {
          "base_uri": "https://localhost:8080/"
        },
        "id": "6fQc1IYKB-HY",
        "outputId": "66ea058e-2509-43b3-cca7-f68415847ad7"
      },
      "execution_count": 32,
      "outputs": [
        {
          "output_type": "stream",
          "name": "stdout",
          "text": [
            "z_stat:  -0.467177 ,p_val : 0.320187 \n"
          ]
        }
      ]
    },
    {
      "cell_type": "code",
      "source": [],
      "metadata": {
        "id": "TvTk_7sxFgmy"
      },
      "execution_count": null,
      "outputs": []
    },
    {
      "cell_type": "code",
      "source": [],
      "metadata": {
        "id": "ZpI5AxrpFgqF"
      },
      "execution_count": null,
      "outputs": []
    },
    {
      "cell_type": "code",
      "source": [
        "'''You are testing two drugs as a remedy. Drug A is effective in 41 out of a sample of 195. Drug B works on 351 out of 605 people.\n",
        "\n",
        "Are the two drugs comparable in terms of effectiveness? Use a 5% significance level for testing.\n",
        "\n",
        "\n",
        "Perform an appropriate test.'''\n",
        "\n"
      ],
      "metadata": {
        "colab": {
          "base_uri": "https://localhost:8080/"
        },
        "id": "pOlOIwFEFguP",
        "outputId": "f34dcfa8-b8b2-4c1d-d6f0-bb8be21a3b74"
      },
      "execution_count": 39,
      "outputs": [
        {
          "output_type": "stream",
          "name": "stdout",
          "text": [
            "z_stat:  -8.985901 ,p_val : 0.000000 \n"
          ]
        }
      ]
    },
    {
      "cell_type": "markdown",
      "source": [
        "We can calculate the z-statistic value for two proportion test by using the formula:\n",
        "\n",
        "Z =  \n",
        "p.(1−p).(\n",
        "n\n",
        "1\n",
        "​\n",
        "\n",
        "1\n",
        "​\n",
        " +\n",
        "n\n",
        "2\n",
        "​\n",
        "\n",
        "1\n",
        "​\n",
        " )\n",
        "​\n",
        "\n",
        "p\n",
        "1\n",
        "​\n",
        " −p\n",
        "2\n",
        "​\n",
        "\n",
        "​\n",
        "  .\n",
        "\n",
        "Compare this with the alpha value to decide on rejecting or failing to reject the null hypothesis."
      ],
      "metadata": {
        "id": "QRkEyaHyG6rZ"
      }
    },
    {
      "cell_type": "code",
      "source": [
        "conversions = np.array([41, 351])\n",
        "visits = np.array([195,605])\n",
        "\n",
        "\n",
        "z_stat, p_val = sm.stats.proportions_ztest([41,351], [195,605],alternative='two-sided')\n",
        "\n",
        "print(f\"z_stat:  {z_stat:4f} ,p_val : {p_val} \")"
      ],
      "metadata": {
        "colab": {
          "base_uri": "https://localhost:8080/"
        },
        "id": "gnQhxBcoGmR3",
        "outputId": "39c50fe0-e2b8-4ece-a2b1-4c44b5fcaee7"
      },
      "execution_count": 55,
      "outputs": [
        {
          "output_type": "stream",
          "name": "stdout",
          "text": [
            "z_stat:  -8.985901 ,p_val : 2.566230446480293e-19 \n"
          ]
        }
      ]
    },
    {
      "cell_type": "code",
      "source": [
        "# Given data for Drug A\n",
        "success_A = 41\n",
        "sample_size_A = 195\n",
        "\n",
        "# Given data for Drug B\n",
        "success_B = 351\n",
        "sample_size_B = 605\n",
        "\n",
        "# Perform the two-proportion Z-test\n",
        "z_stat, p_value = sm.stats.proportions_ztest([success_A, success_B], [sample_size_A, sample_size_B], alternative='two-sided')"
      ],
      "metadata": {
        "id": "1Nu2DfrqKXqL"
      },
      "execution_count": null,
      "outputs": []
    },
    {
      "cell_type": "code",
      "source": [
        "p=41+351\n",
        "denom=((p*(1-p)) * ((1/195) + (1/605)))\n",
        "\n",
        "z_score=(41-351)/(denom**0.5)\n",
        "\n",
        "z_score"
      ],
      "metadata": {
        "colab": {
          "base_uri": "https://localhost:8080/"
        },
        "id": "AOuom_FoIPBs",
        "outputId": "fea676e3-434a-45f8-b3c5-5b4e260124b7"
      },
      "execution_count": 51,
      "outputs": [
        {
          "output_type": "execute_result",
          "data": {
            "text/plain": [
              "(-5.887909650886691e-16+9.615686179861955j)"
            ]
          },
          "metadata": {},
          "execution_count": 51
        }
      ]
    },
    {
      "cell_type": "code",
      "source": [
        "norm.cdf(z_score)"
      ],
      "metadata": {
        "colab": {
          "base_uri": "https://localhost:8080/"
        },
        "id": "koF1XgvIJonW",
        "outputId": "a51baf63-9a79-4a1e-b536-0178f8374daa"
      },
      "execution_count": 52,
      "outputs": [
        {
          "output_type": "execute_result",
          "data": {
            "text/plain": [
              "(-28093.501713292182+5.017687164631274e+18j)"
            ]
          },
          "metadata": {},
          "execution_count": 52
        }
      ]
    },
    {
      "cell_type": "code",
      "source": [],
      "metadata": {
        "id": "vch-AgyGKkLT"
      },
      "execution_count": null,
      "outputs": []
    },
    {
      "cell_type": "code",
      "source": [],
      "metadata": {
        "id": "bXTmfpiHKkOX"
      },
      "execution_count": null,
      "outputs": []
    },
    {
      "cell_type": "code",
      "source": [
        "'''An IT team is comparing the response times of two different web servers, Server A and Server B, under a specific load. They have collected response time data for a sample of requests.\n",
        "\n",
        "Server A: Mean response time of 120 milliseconds from 30 requests, with a standard deviation of 15 milliseconds.\n",
        "Server B: Mean response time of 110 milliseconds from 35 requests, with a standard deviation of 12 milliseconds.\n",
        "Conduct an appropriate test to determine if there is a significant difference in the mean response times between the two servers. Assume a 5% significance level.'''\n",
        "\n",
        "m1=120\n",
        "n1=30\n",
        "sd1=15\n",
        "m2=110\n",
        "n2=35\n",
        "sd2=12\n",
        "denom=np.sqrt(((sd1 **2)/n1) + ((sd2 **2)/n2))\n",
        "z_score=(m1-m2)/denom\n",
        "\n",
        "p_val=2*(1-norm.cdf(abs(z_score)))\n",
        "\n",
        "print(f\"z_score:{z_score} and p_val:{p_val}\")\n",
        "\n"
      ],
      "metadata": {
        "colab": {
          "base_uri": "https://localhost:8080/"
        },
        "id": "5unHDMhrKkRv",
        "outputId": "13e6bf11-66b2-4781-8b8e-d858721ffd0c"
      },
      "execution_count": 58,
      "outputs": [
        {
          "output_type": "stream",
          "name": "stdout",
          "text": [
            "z_score:2.9342948217350298 and p_val:0.003343064983343025\n"
          ]
        }
      ]
    },
    {
      "cell_type": "code",
      "source": [],
      "metadata": {
        "id": "iF5vfxZqNfPs"
      },
      "execution_count": null,
      "outputs": []
    },
    {
      "cell_type": "code",
      "source": [],
      "metadata": {
        "id": "-_2qSr0CNfS9"
      },
      "execution_count": null,
      "outputs": []
    },
    {
      "cell_type": "code",
      "source": [],
      "metadata": {
        "id": "4PVlJY4DNfWj"
      },
      "execution_count": null,
      "outputs": []
    },
    {
      "cell_type": "code",
      "source": [
        "'''A group of archers claims that they can hit the bullseye with a success rate of 70%. To test this claim, a random sample of 100 shots is taken, and 65 of them hit the bullseye.\n",
        "\n",
        "Is there significant evidence to suggest that the archer’s actual success rate is greater than 70% at a 95% confidence level?'''\n"
      ],
      "metadata": {
        "id": "6zhqYczONfYx"
      },
      "execution_count": null,
      "outputs": []
    },
    {
      "cell_type": "code",
      "source": [
        "proportions_ztest(count=65,nobs=100,value=0.70, alternative='larger')"
      ],
      "metadata": {
        "colab": {
          "base_uri": "https://localhost:8080/"
        },
        "id": "2_xf0ombNj0D",
        "outputId": "a20df73c-7440-46bc-ebde-ad18ae41bb7e"
      },
      "execution_count": 62,
      "outputs": [
        {
          "output_type": "execute_result",
          "data": {
            "text/plain": [
              "(-1.048284836721917, 0.8527463031599446)"
            ]
          },
          "metadata": {},
          "execution_count": 62
        }
      ]
    },
    {
      "cell_type": "code",
      "source": [],
      "metadata": {
        "id": "JIPS3vlyN_t5"
      },
      "execution_count": null,
      "outputs": []
    },
    {
      "cell_type": "code",
      "source": [],
      "metadata": {
        "id": "uYU7IyDgOA24"
      },
      "execution_count": null,
      "outputs": []
    },
    {
      "cell_type": "code",
      "source": [
        "'''As a social media analyst, you want to compare the engagement rates of posts from two different accounts (Account X and Account Y).\n",
        "\n",
        "You collected data on 180 posts from Account X, where 40 received high engagement. Similarly, you collect data on 200 posts from Account Y, where 60 received high engagement.\n",
        "\n",
        "Conduct an appropriate test at a 95% confidence interval to determine if there's a significant difference in high engagement proportions between the two accounts.'''\n",
        "\n",
        "proportions_ztest([40,60],[180,200])"
      ],
      "metadata": {
        "colab": {
          "base_uri": "https://localhost:8080/"
        },
        "id": "Yf66VWXCOA6E",
        "outputId": "1d314fa7-b3e4-4b52-a229-8e14a5854d64"
      },
      "execution_count": 63,
      "outputs": [
        {
          "output_type": "execute_result",
          "data": {
            "text/plain": [
              "(-1.7191729277636834, 0.08558288874449103)"
            ]
          },
          "metadata": {},
          "execution_count": 63
        }
      ]
    }
  ]
}